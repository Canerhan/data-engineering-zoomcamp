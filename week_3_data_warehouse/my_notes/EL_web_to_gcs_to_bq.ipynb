{
 "cells": [
  {
   "cell_type": "code",
   "execution_count": 1,
   "metadata": {},
   "outputs": [],
   "source": [
    "from pathlib import Path\n",
    "import pandas as pd\n",
    "from prefect import flow, task\n",
    "from prefect_gcp.cloud_storage import GcsBucket\n",
    "from prefect_gcp import GcpCredentials"
   ]
  },
  {
   "cell_type": "code",
   "execution_count": null,
   "metadata": {},
   "outputs": [],
   "source": []
  },
  {
   "cell_type": "code",
   "execution_count": null,
   "metadata": {},
   "outputs": [],
   "source": [
    "@task(restries=3)\n",
    "def extract_load_togcs(url: str) -> path: Path:\n",
    "    "
   ]
  },
  {
   "cell_type": "code",
   "execution_count": null,
   "metadata": {},
   "outputs": [],
   "source": []
  },
  {
   "cell_type": "code",
   "execution_count": null,
   "metadata": {},
   "outputs": [],
   "source": []
  },
  {
   "cell_type": "code",
   "execution_count": null,
   "metadata": {},
   "outputs": [],
   "source": []
  },
  {
   "cell_type": "code",
   "execution_count": null,
   "metadata": {},
   "outputs": [],
   "source": []
  },
  {
   "cell_type": "code",
   "execution_count": null,
   "metadata": {},
   "outputs": [],
   "source": []
  },
  {
   "cell_type": "code",
   "execution_count": null,
   "metadata": {},
   "outputs": [],
   "source": []
  },
  {
   "cell_type": "code",
   "execution_count": 2,
   "metadata": {},
   "outputs": [],
   "source": [
    "@flow()\n",
    "def etl_gcs_to_bq(year: int, month: int, color: str) -> None:\n",
    "    \"\"\"Main ETL flow to load data into Big Query\"\"\"\n",
    "\n",
    "\n",
    "    path = extract_from_gcs(color, year, month) \n",
    "    df = transform(path)\n",
    "    write_bq(df, color, year, month)\n",
    "    print(len(df))\n",
    "\n",
    "\n",
    "@flow()\n",
    "def etl_parent_flow(\n",
    "    months: list[int] = [1, 2], year: int = 2019, color: str = \"yellow\"\n",
    "):\n",
    "    for month in months:\n",
    "        etl_gcs_to_bq(year, month, color)\n",
    "\n"
   ]
  },
  {
   "cell_type": "code",
   "execution_count": null,
   "metadata": {},
   "outputs": [],
   "source": [
    "if __name__==\"__main__\":\n",
    "    \n",
    "    color=\"yellow\"\n",
    "    year=2019\n",
    "    months=[2,3]\n",
    "    \n",
    "    etl_parent_flow(months, year, color)"
   ]
  }
 ],
 "metadata": {
  "kernelspec": {
   "display_name": "py_env",
   "language": "python",
   "name": "python3"
  },
  "language_info": {
   "codemirror_mode": {
    "name": "ipython",
    "version": 3
   },
   "file_extension": ".py",
   "mimetype": "text/x-python",
   "name": "python",
   "nbconvert_exporter": "python",
   "pygments_lexer": "ipython3",
   "version": "3.10.7"
  },
  "orig_nbformat": 4,
  "vscode": {
   "interpreter": {
    "hash": "54f679043ff429a6f8afb6aea6d0bf58b762f30572adf733c7a4591ed6d18081"
   }
  }
 },
 "nbformat": 4,
 "nbformat_minor": 2
}
