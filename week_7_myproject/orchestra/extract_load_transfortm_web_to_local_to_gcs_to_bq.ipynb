{
 "cells": [
  {
   "cell_type": "code",
   "execution_count": 23,
   "metadata": {},
   "outputs": [],
   "source": [
    "from pathlib import Path\n",
    "import pandas as pd\n",
    "from prefect import flow, task\n",
    "from prefect_gcp.cloud_storage import GcsBucket\n",
    "from prefect_gcp import GcpCredentials\n",
    "import io\n",
    "import os\n",
    "import requests\n",
    "import calendar"
   ]
  },
  {
   "cell_type": "code",
   "execution_count": 24,
   "metadata": {},
   "outputs": [
    {
     "name": "stderr",
     "output_type": "stream",
     "text": [
      "/home/linux_dev_env/py_env/lib/python3.10/site-packages/prefect/tasks.py:261: UserWarning: A task named 'extract_load_web_data' and defined at '/tmp/ipykernel_45968/1744432909.py:1' conflicts with another task. Consider specifying a unique `name` parameter in the task definition:\n",
      "\n",
      " `@task(name='my_unique_name', ...)`\n",
      "  warnings.warn(\n"
     ]
    }
   ],
   "source": [
    "@task(retries=3)\n",
    "def extract_load_web_data(year:int , month:int,file_name) -> None:\n",
    "    request_url =f\"https://use-land-property-data.service.gov.uk/datasets/td/download/history/{calendar.month_name[month]}%20{year}/{file_name}.csv\"\n",
    "    r = requests.get(request_url)\n",
    "    url_content=r.content\n",
    "    csv_file = open(f'{file_name}.csv', 'wb')\n",
    "    csv_file.write(url_content)\n",
    "    csv_file.close()"
   ]
  },
  {
   "cell_type": "code",
   "execution_count": 25,
   "metadata": {},
   "outputs": [
    {
     "name": "stderr",
     "output_type": "stream",
     "text": [
      "/home/linux_dev_env/py_env/lib/python3.10/site-packages/prefect/tasks.py:261: UserWarning: A task named 'load_csv_data' and defined at '/tmp/ipykernel_45968/3339839138.py:1' conflicts with another task. Consider specifying a unique `name` parameter in the task definition:\n",
      "\n",
      " `@task(name='my_unique_name', ...)`\n",
      "  warnings.warn(\n"
     ]
    }
   ],
   "source": [
    "@task()\n",
    "def load_csv_data (file_name: str) -> pd.DataFrame:\n",
    "    df = pd.read_csv(f\"{file_name}.csv\", sep=',', header=4, index_col=False)\n",
    "    return df"
   ]
  },
  {
   "cell_type": "code",
   "execution_count": 26,
   "metadata": {},
   "outputs": [
    {
     "name": "stderr",
     "output_type": "stream",
     "text": [
      "/home/linux_dev_env/py_env/lib/python3.10/site-packages/prefect/tasks.py:261: UserWarning: A task named 'clean_local_data' and defined at '/tmp/ipykernel_45968/3782913062.py:1' conflicts with another task. Consider specifying a unique `name` parameter in the task definition:\n",
      "\n",
      " `@task(name='my_unique_name', ...)`\n",
      "  warnings.warn(\n"
     ]
    }
   ],
   "source": [
    "@task()\n",
    "def clean_local_data(df: pd.DataFrame) -> pd.DataFrame:\n",
    "    \"\"\" We need to add a date column for each DataFrame \"\"\"\n",
    "    new_df = df[df[\"Account Customer\"].str.contains(\"Total\")==False]\n",
    "    \"\"\" We are dropping the \"Total\" Column from the Dataframe \"\"\"\n",
    "    new_df = new_df.drop([\"Total\"], axis=1)\n",
    "    new_df.columns = new_df.columns.str.replace(\"[( )]\", \"_\")\n",
    "    return new_df"
   ]
  },
  {
   "cell_type": "code",
   "execution_count": 27,
   "metadata": {},
   "outputs": [
    {
     "name": "stderr",
     "output_type": "stream",
     "text": [
      "/home/linux_dev_env/py_env/lib/python3.10/site-packages/prefect/tasks.py:261: UserWarning: A task named 'transform_data' and defined at '/tmp/ipykernel_45968/1433901114.py:1' conflicts with another task. Consider specifying a unique `name` parameter in the task definition:\n",
      "\n",
      " `@task(name='my_unique_name', ...)`\n",
      "  warnings.warn(\n"
     ]
    }
   ],
   "source": [
    "@task()\n",
    "def transform_data(df: pd.DataFrame, year, month) -> None:\n",
    "    df[\"date_added\"] = f\"01.{month:02}.{year}\"\n",
    "    return df"
   ]
  },
  {
   "cell_type": "code",
   "execution_count": 28,
   "metadata": {},
   "outputs": [
    {
     "name": "stderr",
     "output_type": "stream",
     "text": [
      "/home/linux_dev_env/py_env/lib/python3.10/site-packages/prefect/tasks.py:261: UserWarning: A task named 'save_transformed_data' and defined at '/tmp/ipykernel_45968/4246081314.py:1' conflicts with another task. Consider specifying a unique `name` parameter in the task definition:\n",
      "\n",
      " `@task(name='my_unique_name', ...)`\n",
      "  warnings.warn(\n"
     ]
    }
   ],
   "source": [
    "@task()\n",
    "def save_transformed_data(df: pd.DataFrame, file_name) -> None:\n",
    "    df.to_parquet(f\"{file_name}.parquet\", compression=\"gzip\", index=False)\n",
    "    df = pd.read_parquet(f\"{file_name}.parquet\")\n",
    "    return df"
   ]
  },
  {
   "cell_type": "code",
   "execution_count": 29,
   "metadata": {},
   "outputs": [
    {
     "name": "stderr",
     "output_type": "stream",
     "text": [
      "/home/linux_dev_env/py_env/lib/python3.10/site-packages/prefect/tasks.py:261: UserWarning: A task named 'write_gcs' and defined at '/tmp/ipykernel_45968/1425389079.py:1' conflicts with another task. Consider specifying a unique `name` parameter in the task definition:\n",
      "\n",
      " `@task(name='my_unique_name', ...)`\n",
      "  warnings.warn(\n"
     ]
    }
   ],
   "source": [
    "@task()\n",
    "def write_gcs(file_name: str, path_gcp) -> None:\n",
    "    \"\"\"Upload local parquet FIle \"\"\"\n",
    "    gcp_cloud_storage_bucket_block = GcsBucket.load(\"gcp-project-dc\")\n",
    "    gcp_cloud_storage_bucket_block.upload_from_path(\n",
    "        from_path = f\"{file_name}.parquet\",\n",
    "        to_path=f\"{path_gcp}/{file_name}\"\n",
    "    )"
   ]
  },
  {
   "cell_type": "code",
   "execution_count": 30,
   "metadata": {},
   "outputs": [
    {
     "name": "stderr",
     "output_type": "stream",
     "text": [
      "/home/linux_dev_env/py_env/lib/python3.10/site-packages/prefect/tasks.py:261: UserWarning: A task named 'write_bq' and defined at '/tmp/ipykernel_45968/671548081.py:1' conflicts with another task. Consider specifying a unique `name` parameter in the task definition:\n",
      "\n",
      " `@task(name='my_unique_name', ...)`\n",
      "  warnings.warn(\n"
     ]
    }
   ],
   "source": [
    "@task()\n",
    "def write_bq(df: pd.DataFrame) -> None:\n",
    "    \"\"\"Write DataFrame to BigQuery\"\"\"\n",
    "    gcp_credentials_block = GcpCredentials.load(\"gcp-project-2023\")\n",
    "    print(df.head())\n",
    "    df.to_gbq(\n",
    "        destination_table=\"project_dwh.land_and_property\", # Dataset.TableName\n",
    "        project_id=\"dc-project-2023\",\n",
    "        credentials=gcp_credentials_block.get_credentials_from_service_account(),\n",
    "        chunksize=500.000,\n",
    "        if_exists=\"append\",\n",
    "    )"
   ]
  },
  {
   "cell_type": "code",
   "execution_count": 31,
   "metadata": {},
   "outputs": [
    {
     "name": "stderr",
     "output_type": "stream",
     "text": [
      "/home/linux_dev_env/py_env/lib/python3.10/site-packages/prefect/flows.py:206: UserWarning: A flow named 'etl-web-to-local-to-gcs' and defined at '/tmp/ipykernel_45968/506873230.py:1' conflicts with another flow. Consider specifying a unique `name` parameter in the flow definition:\n",
      "\n",
      " `@flow(name='my_unique_name', ...)`\n",
      "  warnings.warn(\n"
     ]
    }
   ],
   "source": [
    "@flow()\n",
    "def etl_web_to_local_to_gcs(year: int, month: int) -> None:\n",
    "    file_name = f\"Number-and-types-of-applications-by-all-account-customers-{year}-{month:02}\"\n",
    "    extract_load_web_data(year, month, file_name)\n",
    "    raw_df = load_csv_data(file_name)\n",
    "    cleaned_df = clean_local_data(raw_df)\n",
    "    transformed_df = transform_data (cleaned_df, year, month)\n",
    "    final_df = save_transformed_data (transformed_df, file_name)\n",
    "    write_gcs(file_name, \"Land_and_Property\")\n",
    "    write_bq(final_df)\n",
    "    "
   ]
  },
  {
   "cell_type": "code",
   "execution_count": 32,
   "metadata": {},
   "outputs": [
    {
     "name": "stderr",
     "output_type": "stream",
     "text": [
      "/home/linux_dev_env/py_env/lib/python3.10/site-packages/prefect/flows.py:206: UserWarning: A flow named 'etl-parent-flow' and defined at '/tmp/ipykernel_45968/1325823985.py:1' conflicts with another flow. Consider specifying a unique `name` parameter in the flow definition:\n",
      "\n",
      " `@flow(name='my_unique_name', ...)`\n",
      "  warnings.warn(\n"
     ]
    }
   ],
   "source": [
    "@flow()\n",
    "def etl_parent_flow(years:list[int] , months:list[int]) -> None:\n",
    "    for year in years:\n",
    "        for month in months:\n",
    "            etl_web_to_local_to_gcs(year, month)"
   ]
  },
  {
   "attachments": {},
   "cell_type": "markdown",
   "metadata": {},
   "source": [
    "## Execution"
   ]
  },
  {
   "cell_type": "code",
   "execution_count": 33,
   "metadata": {},
   "outputs": [
    {
     "data": {
      "text/html": [
       "<pre style=\"white-space:pre;overflow-x:auto;line-height:normal;font-family:Menlo,'DejaVu Sans Mono',consolas,'Courier New',monospace\">14:49:33.722 | <span style=\"color: #008080; text-decoration-color: #008080\">INFO</span>    | prefect.engine - Created flow run<span style=\"color: #800080; text-decoration-color: #800080\"> 'slick-grouse'</span> for flow<span style=\"color: #800080; text-decoration-color: #800080; font-weight: bold\"> 'etl-parent-flow'</span>\n",
       "</pre>\n"
      ],
      "text/plain": [
       "14:49:33.722 | \u001b[36mINFO\u001b[0m    | prefect.engine - Created flow run\u001b[35m 'slick-grouse'\u001b[0m for flow\u001b[1;35m 'etl-parent-flow'\u001b[0m\n"
      ]
     },
     "metadata": {},
     "output_type": "display_data"
    },
    {
     "name": "stderr",
     "output_type": "stream",
     "text": [
      "/home/linux_dev_env/py_env/lib/python3.10/site-packages/prefect/tasks.py:261: UserWarning: A task named 'etl-web-to-local-to-gcs' and defined at '/tmp/ipykernel_45968/506873230.py:1' conflicts with another task. Consider specifying a unique `name` parameter in the task definition:\n",
      "\n",
      " `@task(name='my_unique_name', ...)`\n",
      "  warnings.warn(\n"
     ]
    },
    {
     "data": {
      "text/html": [
       "<pre style=\"white-space:pre;overflow-x:auto;line-height:normal;font-family:Menlo,'DejaVu Sans Mono',consolas,'Courier New',monospace\">14:49:34.023 | <span style=\"color: #008080; text-decoration-color: #008080\">INFO</span>    | Flow run<span style=\"color: #800080; text-decoration-color: #800080\"> 'slick-grouse'</span> - Created subflow run<span style=\"color: #800080; text-decoration-color: #800080\"> 'busy-dog'</span> for flow<span style=\"color: #800080; text-decoration-color: #800080; font-weight: bold\"> 'etl-web-to-local-to-gcs'</span>\n",
       "</pre>\n"
      ],
      "text/plain": [
       "14:49:34.023 | \u001b[36mINFO\u001b[0m    | Flow run\u001b[35m 'slick-grouse'\u001b[0m - Created subflow run\u001b[35m 'busy-dog'\u001b[0m for flow\u001b[1;35m 'etl-web-to-local-to-gcs'\u001b[0m\n"
      ]
     },
     "metadata": {},
     "output_type": "display_data"
    },
    {
     "data": {
      "text/html": [
       "<pre style=\"white-space:pre;overflow-x:auto;line-height:normal;font-family:Menlo,'DejaVu Sans Mono',consolas,'Courier New',monospace\">14:49:34.159 | <span style=\"color: #008080; text-decoration-color: #008080\">INFO</span>    | Flow run<span style=\"color: #800080; text-decoration-color: #800080\"> 'busy-dog'</span> - Created task run 'extract_load_web_data-0' for task 'extract_load_web_data'\n",
       "</pre>\n"
      ],
      "text/plain": [
       "14:49:34.159 | \u001b[36mINFO\u001b[0m    | Flow run\u001b[35m 'busy-dog'\u001b[0m - Created task run 'extract_load_web_data-0' for task 'extract_load_web_data'\n"
      ]
     },
     "metadata": {},
     "output_type": "display_data"
    },
    {
     "data": {
      "text/html": [
       "<pre style=\"white-space:pre;overflow-x:auto;line-height:normal;font-family:Menlo,'DejaVu Sans Mono',consolas,'Courier New',monospace\">14:49:34.161 | <span style=\"color: #008080; text-decoration-color: #008080\">INFO</span>    | Flow run<span style=\"color: #800080; text-decoration-color: #800080\"> 'busy-dog'</span> - Executing 'extract_load_web_data-0' immediately...\n",
       "</pre>\n"
      ],
      "text/plain": [
       "14:49:34.161 | \u001b[36mINFO\u001b[0m    | Flow run\u001b[35m 'busy-dog'\u001b[0m - Executing 'extract_load_web_data-0' immediately...\n"
      ]
     },
     "metadata": {},
     "output_type": "display_data"
    },
    {
     "data": {
      "text/html": [
       "<pre style=\"white-space:pre;overflow-x:auto;line-height:normal;font-family:Menlo,'DejaVu Sans Mono',consolas,'Courier New',monospace\">14:49:40.473 | <span style=\"color: #008080; text-decoration-color: #008080\">INFO</span>    | Task run 'extract_load_web_data-0' - Finished in state <span style=\"color: #008000; text-decoration-color: #008000\">Completed</span>()\n",
       "</pre>\n"
      ],
      "text/plain": [
       "14:49:40.473 | \u001b[36mINFO\u001b[0m    | Task run 'extract_load_web_data-0' - Finished in state \u001b[32mCompleted\u001b[0m()\n"
      ]
     },
     "metadata": {},
     "output_type": "display_data"
    },
    {
     "data": {
      "text/html": [
       "<pre style=\"white-space:pre;overflow-x:auto;line-height:normal;font-family:Menlo,'DejaVu Sans Mono',consolas,'Courier New',monospace\">14:49:40.521 | <span style=\"color: #008080; text-decoration-color: #008080\">INFO</span>    | Flow run<span style=\"color: #800080; text-decoration-color: #800080\"> 'busy-dog'</span> - Created task run 'load_csv_data-0' for task 'load_csv_data'\n",
       "</pre>\n"
      ],
      "text/plain": [
       "14:49:40.521 | \u001b[36mINFO\u001b[0m    | Flow run\u001b[35m 'busy-dog'\u001b[0m - Created task run 'load_csv_data-0' for task 'load_csv_data'\n"
      ]
     },
     "metadata": {},
     "output_type": "display_data"
    },
    {
     "data": {
      "text/html": [
       "<pre style=\"white-space:pre;overflow-x:auto;line-height:normal;font-family:Menlo,'DejaVu Sans Mono',consolas,'Courier New',monospace\">14:49:40.523 | <span style=\"color: #008080; text-decoration-color: #008080\">INFO</span>    | Flow run<span style=\"color: #800080; text-decoration-color: #800080\"> 'busy-dog'</span> - Executing 'load_csv_data-0' immediately...\n",
       "</pre>\n"
      ],
      "text/plain": [
       "14:49:40.523 | \u001b[36mINFO\u001b[0m    | Flow run\u001b[35m 'busy-dog'\u001b[0m - Executing 'load_csv_data-0' immediately...\n"
      ]
     },
     "metadata": {},
     "output_type": "display_data"
    },
    {
     "data": {
      "text/html": [
       "<pre style=\"white-space:pre;overflow-x:auto;line-height:normal;font-family:Menlo,'DejaVu Sans Mono',consolas,'Courier New',monospace\">14:49:40.651 | <span style=\"color: #008080; text-decoration-color: #008080\">INFO</span>    | Task run 'load_csv_data-0' - Finished in state <span style=\"color: #008000; text-decoration-color: #008000\">Completed</span>()\n",
       "</pre>\n"
      ],
      "text/plain": [
       "14:49:40.651 | \u001b[36mINFO\u001b[0m    | Task run 'load_csv_data-0' - Finished in state \u001b[32mCompleted\u001b[0m()\n"
      ]
     },
     "metadata": {},
     "output_type": "display_data"
    },
    {
     "data": {
      "text/html": [
       "<pre style=\"white-space:pre;overflow-x:auto;line-height:normal;font-family:Menlo,'DejaVu Sans Mono',consolas,'Courier New',monospace\">14:49:40.705 | <span style=\"color: #008080; text-decoration-color: #008080\">INFO</span>    | Flow run<span style=\"color: #800080; text-decoration-color: #800080\"> 'busy-dog'</span> - Created task run 'clean_local_data-0' for task 'clean_local_data'\n",
       "</pre>\n"
      ],
      "text/plain": [
       "14:49:40.705 | \u001b[36mINFO\u001b[0m    | Flow run\u001b[35m 'busy-dog'\u001b[0m - Created task run 'clean_local_data-0' for task 'clean_local_data'\n"
      ]
     },
     "metadata": {},
     "output_type": "display_data"
    },
    {
     "data": {
      "text/html": [
       "<pre style=\"white-space:pre;overflow-x:auto;line-height:normal;font-family:Menlo,'DejaVu Sans Mono',consolas,'Courier New',monospace\">14:49:40.708 | <span style=\"color: #008080; text-decoration-color: #008080\">INFO</span>    | Flow run<span style=\"color: #800080; text-decoration-color: #800080\"> 'busy-dog'</span> - Executing 'clean_local_data-0' immediately...\n",
       "</pre>\n"
      ],
      "text/plain": [
       "14:49:40.708 | \u001b[36mINFO\u001b[0m    | Flow run\u001b[35m 'busy-dog'\u001b[0m - Executing 'clean_local_data-0' immediately...\n"
      ]
     },
     "metadata": {},
     "output_type": "display_data"
    },
    {
     "name": "stderr",
     "output_type": "stream",
     "text": [
      "/tmp/ipykernel_45968/3782913062.py:7: FutureWarning: The default value of regex will change from True to False in a future version.\n",
      "  new_df.columns = new_df.columns.str.replace(\"[()]\", \"_\")\n"
     ]
    },
    {
     "data": {
      "text/html": [
       "<pre style=\"white-space:pre;overflow-x:auto;line-height:normal;font-family:Menlo,'DejaVu Sans Mono',consolas,'Courier New',monospace\">14:49:40.825 | <span style=\"color: #008080; text-decoration-color: #008080\">INFO</span>    | Task run 'clean_local_data-0' - Finished in state <span style=\"color: #008000; text-decoration-color: #008000\">Completed</span>()\n",
       "</pre>\n"
      ],
      "text/plain": [
       "14:49:40.825 | \u001b[36mINFO\u001b[0m    | Task run 'clean_local_data-0' - Finished in state \u001b[32mCompleted\u001b[0m()\n"
      ]
     },
     "metadata": {},
     "output_type": "display_data"
    },
    {
     "data": {
      "text/html": [
       "<pre style=\"white-space:pre;overflow-x:auto;line-height:normal;font-family:Menlo,'DejaVu Sans Mono',consolas,'Courier New',monospace\">14:49:40.877 | <span style=\"color: #008080; text-decoration-color: #008080\">INFO</span>    | Flow run<span style=\"color: #800080; text-decoration-color: #800080\"> 'busy-dog'</span> - Created task run 'transform_data-0' for task 'transform_data'\n",
       "</pre>\n"
      ],
      "text/plain": [
       "14:49:40.877 | \u001b[36mINFO\u001b[0m    | Flow run\u001b[35m 'busy-dog'\u001b[0m - Created task run 'transform_data-0' for task 'transform_data'\n"
      ]
     },
     "metadata": {},
     "output_type": "display_data"
    },
    {
     "data": {
      "text/html": [
       "<pre style=\"white-space:pre;overflow-x:auto;line-height:normal;font-family:Menlo,'DejaVu Sans Mono',consolas,'Courier New',monospace\">14:49:40.879 | <span style=\"color: #008080; text-decoration-color: #008080\">INFO</span>    | Flow run<span style=\"color: #800080; text-decoration-color: #800080\"> 'busy-dog'</span> - Executing 'transform_data-0' immediately...\n",
       "</pre>\n"
      ],
      "text/plain": [
       "14:49:40.879 | \u001b[36mINFO\u001b[0m    | Flow run\u001b[35m 'busy-dog'\u001b[0m - Executing 'transform_data-0' immediately...\n"
      ]
     },
     "metadata": {},
     "output_type": "display_data"
    },
    {
     "data": {
      "text/html": [
       "<pre style=\"white-space:pre;overflow-x:auto;line-height:normal;font-family:Menlo,'DejaVu Sans Mono',consolas,'Courier New',monospace\">14:49:40.996 | <span style=\"color: #008080; text-decoration-color: #008080\">INFO</span>    | Task run 'transform_data-0' - Finished in state <span style=\"color: #008000; text-decoration-color: #008000\">Completed</span>()\n",
       "</pre>\n"
      ],
      "text/plain": [
       "14:49:40.996 | \u001b[36mINFO\u001b[0m    | Task run 'transform_data-0' - Finished in state \u001b[32mCompleted\u001b[0m()\n"
      ]
     },
     "metadata": {},
     "output_type": "display_data"
    },
    {
     "data": {
      "text/html": [
       "<pre style=\"white-space:pre;overflow-x:auto;line-height:normal;font-family:Menlo,'DejaVu Sans Mono',consolas,'Courier New',monospace\">14:49:41.054 | <span style=\"color: #008080; text-decoration-color: #008080\">INFO</span>    | Flow run<span style=\"color: #800080; text-decoration-color: #800080\"> 'busy-dog'</span> - Created task run 'save_transformed_data-0' for task 'save_transformed_data'\n",
       "</pre>\n"
      ],
      "text/plain": [
       "14:49:41.054 | \u001b[36mINFO\u001b[0m    | Flow run\u001b[35m 'busy-dog'\u001b[0m - Created task run 'save_transformed_data-0' for task 'save_transformed_data'\n"
      ]
     },
     "metadata": {},
     "output_type": "display_data"
    },
    {
     "data": {
      "text/html": [
       "<pre style=\"white-space:pre;overflow-x:auto;line-height:normal;font-family:Menlo,'DejaVu Sans Mono',consolas,'Courier New',monospace\">14:49:41.055 | <span style=\"color: #008080; text-decoration-color: #008080\">INFO</span>    | Flow run<span style=\"color: #800080; text-decoration-color: #800080\"> 'busy-dog'</span> - Executing 'save_transformed_data-0' immediately...\n",
       "</pre>\n"
      ],
      "text/plain": [
       "14:49:41.055 | \u001b[36mINFO\u001b[0m    | Flow run\u001b[35m 'busy-dog'\u001b[0m - Executing 'save_transformed_data-0' immediately...\n"
      ]
     },
     "metadata": {},
     "output_type": "display_data"
    },
    {
     "data": {
      "text/html": [
       "<pre style=\"white-space:pre;overflow-x:auto;line-height:normal;font-family:Menlo,'DejaVu Sans Mono',consolas,'Courier New',monospace\">14:49:41.213 | <span style=\"color: #008080; text-decoration-color: #008080\">INFO</span>    | Task run 'save_transformed_data-0' - Finished in state <span style=\"color: #008000; text-decoration-color: #008000\">Completed</span>()\n",
       "</pre>\n"
      ],
      "text/plain": [
       "14:49:41.213 | \u001b[36mINFO\u001b[0m    | Task run 'save_transformed_data-0' - Finished in state \u001b[32mCompleted\u001b[0m()\n"
      ]
     },
     "metadata": {},
     "output_type": "display_data"
    },
    {
     "data": {
      "text/html": [
       "<pre style=\"white-space:pre;overflow-x:auto;line-height:normal;font-family:Menlo,'DejaVu Sans Mono',consolas,'Courier New',monospace\">14:49:41.260 | <span style=\"color: #008080; text-decoration-color: #008080\">INFO</span>    | Flow run<span style=\"color: #800080; text-decoration-color: #800080\"> 'busy-dog'</span> - Created task run 'write_gcs-0' for task 'write_gcs'\n",
       "</pre>\n"
      ],
      "text/plain": [
       "14:49:41.260 | \u001b[36mINFO\u001b[0m    | Flow run\u001b[35m 'busy-dog'\u001b[0m - Created task run 'write_gcs-0' for task 'write_gcs'\n"
      ]
     },
     "metadata": {},
     "output_type": "display_data"
    },
    {
     "data": {
      "text/html": [
       "<pre style=\"white-space:pre;overflow-x:auto;line-height:normal;font-family:Menlo,'DejaVu Sans Mono',consolas,'Courier New',monospace\">14:49:41.262 | <span style=\"color: #008080; text-decoration-color: #008080\">INFO</span>    | Flow run<span style=\"color: #800080; text-decoration-color: #800080\"> 'busy-dog'</span> - Executing 'write_gcs-0' immediately...\n",
       "</pre>\n"
      ],
      "text/plain": [
       "14:49:41.262 | \u001b[36mINFO\u001b[0m    | Flow run\u001b[35m 'busy-dog'\u001b[0m - Executing 'write_gcs-0' immediately...\n"
      ]
     },
     "metadata": {},
     "output_type": "display_data"
    },
    {
     "data": {
      "text/html": [
       "<pre style=\"white-space:pre;overflow-x:auto;line-height:normal;font-family:Menlo,'DejaVu Sans Mono',consolas,'Courier New',monospace\">14:49:41.415 | <span style=\"color: #008080; text-decoration-color: #008080\">INFO</span>    | Task run 'write_gcs-0' - Getting bucket 'dtc_data_lake_dc-project-2023'.\n",
       "</pre>\n"
      ],
      "text/plain": [
       "14:49:41.415 | \u001b[36mINFO\u001b[0m    | Task run 'write_gcs-0' - Getting bucket 'dtc_data_lake_dc-project-2023'.\n"
      ]
     },
     "metadata": {},
     "output_type": "display_data"
    },
    {
     "data": {
      "text/html": [
       "<pre style=\"white-space:pre;overflow-x:auto;line-height:normal;font-family:Menlo,'DejaVu Sans Mono',consolas,'Courier New',monospace\">14:49:41.785 | <span style=\"color: #008080; text-decoration-color: #008080\">INFO</span>    | Task run 'write_gcs-0' - Uploading from 'Number-and-types-of-applications-by-all-account-customers-2022-02.parquet' to the bucket 'dtc_data_lake_dc-project-2023' path 'Land_and_Property/Number-and-types-of-applications-by-all-account-customers-2022-02'.\n",
       "</pre>\n"
      ],
      "text/plain": [
       "14:49:41.785 | \u001b[36mINFO\u001b[0m    | Task run 'write_gcs-0' - Uploading from 'Number-and-types-of-applications-by-all-account-customers-2022-02.parquet' to the bucket 'dtc_data_lake_dc-project-2023' path 'Land_and_Property/Number-and-types-of-applications-by-all-account-customers-2022-02'.\n"
      ]
     },
     "metadata": {},
     "output_type": "display_data"
    },
    {
     "data": {
      "text/html": [
       "<pre style=\"white-space:pre;overflow-x:auto;line-height:normal;font-family:Menlo,'DejaVu Sans Mono',consolas,'Courier New',monospace\">14:49:41.998 | <span style=\"color: #008080; text-decoration-color: #008080\">INFO</span>    | Task run 'write_gcs-0' - Finished in state <span style=\"color: #008000; text-decoration-color: #008000\">Completed</span>()\n",
       "</pre>\n"
      ],
      "text/plain": [
       "14:49:41.998 | \u001b[36mINFO\u001b[0m    | Task run 'write_gcs-0' - Finished in state \u001b[32mCompleted\u001b[0m()\n"
      ]
     },
     "metadata": {},
     "output_type": "display_data"
    },
    {
     "data": {
      "text/html": [
       "<pre style=\"white-space:pre;overflow-x:auto;line-height:normal;font-family:Menlo,'DejaVu Sans Mono',consolas,'Courier New',monospace\">14:49:42.060 | <span style=\"color: #008080; text-decoration-color: #008080\">INFO</span>    | Flow run<span style=\"color: #800080; text-decoration-color: #800080\"> 'busy-dog'</span> - Created task run 'write_bq-0' for task 'write_bq'\n",
       "</pre>\n"
      ],
      "text/plain": [
       "14:49:42.060 | \u001b[36mINFO\u001b[0m    | Flow run\u001b[35m 'busy-dog'\u001b[0m - Created task run 'write_bq-0' for task 'write_bq'\n"
      ]
     },
     "metadata": {},
     "output_type": "display_data"
    },
    {
     "data": {
      "text/html": [
       "<pre style=\"white-space:pre;overflow-x:auto;line-height:normal;font-family:Menlo,'DejaVu Sans Mono',consolas,'Courier New',monospace\">14:49:42.062 | <span style=\"color: #008080; text-decoration-color: #008080\">INFO</span>    | Flow run<span style=\"color: #800080; text-decoration-color: #800080\"> 'busy-dog'</span> - Executing 'write_bq-0' immediately...\n",
       "</pre>\n"
      ],
      "text/plain": [
       "14:49:42.062 | \u001b[36mINFO\u001b[0m    | Flow run\u001b[35m 'busy-dog'\u001b[0m - Executing 'write_bq-0' immediately...\n"
      ]
     },
     "metadata": {},
     "output_type": "display_data"
    },
    {
     "name": "stdout",
     "output_type": "stream",
     "text": [
      "       Account Customer  FR  DFL  TP  DLG  OS_W_  OS_NPW_  OS_P_  OS_NPP_  \\\n",
      "0     1 CLICK HOMES LTD   0    0   0    0      0        0      0        0   \n",
      "1           15K LIMITED   0    0   0    0      0        0      0        0   \n",
      "2           192.COM LTD   0    0   0    0      0        0      0        0   \n",
      "3  1PLUS1 LOANS LIMITED   0    0   0    3      0        0      0        0   \n",
      "4      1PM (UK) LIMITED   0    0   0    4      0        0      0        0   \n",
      "\n",
      "   SIMS  OC1  OC2  date_added  \n",
      "0     0    4    0  01.02.2022  \n",
      "1     0    1    0  01.02.2022  \n",
      "2     0  412    0  01.02.2022  \n",
      "3     0   17    1  01.02.2022  \n",
      "4     0   42    0  01.02.2022  \n"
     ]
    },
    {
     "data": {
      "text/html": [
       "<pre style=\"white-space:pre;overflow-x:auto;line-height:normal;font-family:Menlo,'DejaVu Sans Mono',consolas,'Courier New',monospace\">14:49:46.328 | <span style=\"color: #008080; text-decoration-color: #008080\">INFO</span>    | Task run 'write_bq-0' - Finished in state <span style=\"color: #008000; text-decoration-color: #008000\">Completed</span>()\n",
       "</pre>\n"
      ],
      "text/plain": [
       "14:49:46.328 | \u001b[36mINFO\u001b[0m    | Task run 'write_bq-0' - Finished in state \u001b[32mCompleted\u001b[0m()\n"
      ]
     },
     "metadata": {},
     "output_type": "display_data"
    },
    {
     "data": {
      "text/html": [
       "<pre style=\"white-space:pre;overflow-x:auto;line-height:normal;font-family:Menlo,'DejaVu Sans Mono',consolas,'Courier New',monospace\">14:49:46.390 | <span style=\"color: #008080; text-decoration-color: #008080\">INFO</span>    | Flow run<span style=\"color: #800080; text-decoration-color: #800080\"> 'busy-dog'</span> - Finished in state <span style=\"color: #008000; text-decoration-color: #008000\">Completed</span>('All states completed.')\n",
       "</pre>\n"
      ],
      "text/plain": [
       "14:49:46.390 | \u001b[36mINFO\u001b[0m    | Flow run\u001b[35m 'busy-dog'\u001b[0m - Finished in state \u001b[32mCompleted\u001b[0m('All states completed.')\n"
      ]
     },
     "metadata": {},
     "output_type": "display_data"
    },
    {
     "name": "stderr",
     "output_type": "stream",
     "text": [
      "/home/linux_dev_env/py_env/lib/python3.10/site-packages/prefect/tasks.py:261: UserWarning: A task named 'etl-web-to-local-to-gcs' and defined at '/tmp/ipykernel_45968/506873230.py:1' conflicts with another task. Consider specifying a unique `name` parameter in the task definition:\n",
      "\n",
      " `@task(name='my_unique_name', ...)`\n",
      "  warnings.warn(\n"
     ]
    },
    {
     "data": {
      "text/html": [
       "<pre style=\"white-space:pre;overflow-x:auto;line-height:normal;font-family:Menlo,'DejaVu Sans Mono',consolas,'Courier New',monospace\">14:49:46.525 | <span style=\"color: #008080; text-decoration-color: #008080\">INFO</span>    | Flow run<span style=\"color: #800080; text-decoration-color: #800080\"> 'slick-grouse'</span> - Created subflow run<span style=\"color: #800080; text-decoration-color: #800080\"> 'macho-chowchow'</span> for flow<span style=\"color: #800080; text-decoration-color: #800080; font-weight: bold\"> 'etl-web-to-local-to-gcs'</span>\n",
       "</pre>\n"
      ],
      "text/plain": [
       "14:49:46.525 | \u001b[36mINFO\u001b[0m    | Flow run\u001b[35m 'slick-grouse'\u001b[0m - Created subflow run\u001b[35m 'macho-chowchow'\u001b[0m for flow\u001b[1;35m 'etl-web-to-local-to-gcs'\u001b[0m\n"
      ]
     },
     "metadata": {},
     "output_type": "display_data"
    },
    {
     "data": {
      "text/html": [
       "<pre style=\"white-space:pre;overflow-x:auto;line-height:normal;font-family:Menlo,'DejaVu Sans Mono',consolas,'Courier New',monospace\">14:49:46.649 | <span style=\"color: #008080; text-decoration-color: #008080\">INFO</span>    | Flow run<span style=\"color: #800080; text-decoration-color: #800080\"> 'macho-chowchow'</span> - Created task run 'extract_load_web_data-0' for task 'extract_load_web_data'\n",
       "</pre>\n"
      ],
      "text/plain": [
       "14:49:46.649 | \u001b[36mINFO\u001b[0m    | Flow run\u001b[35m 'macho-chowchow'\u001b[0m - Created task run 'extract_load_web_data-0' for task 'extract_load_web_data'\n"
      ]
     },
     "metadata": {},
     "output_type": "display_data"
    },
    {
     "data": {
      "text/html": [
       "<pre style=\"white-space:pre;overflow-x:auto;line-height:normal;font-family:Menlo,'DejaVu Sans Mono',consolas,'Courier New',monospace\">14:49:46.650 | <span style=\"color: #008080; text-decoration-color: #008080\">INFO</span>    | Flow run<span style=\"color: #800080; text-decoration-color: #800080\"> 'macho-chowchow'</span> - Executing 'extract_load_web_data-0' immediately...\n",
       "</pre>\n"
      ],
      "text/plain": [
       "14:49:46.650 | \u001b[36mINFO\u001b[0m    | Flow run\u001b[35m 'macho-chowchow'\u001b[0m - Executing 'extract_load_web_data-0' immediately...\n"
      ]
     },
     "metadata": {},
     "output_type": "display_data"
    },
    {
     "data": {
      "text/html": [
       "<pre style=\"white-space:pre;overflow-x:auto;line-height:normal;font-family:Menlo,'DejaVu Sans Mono',consolas,'Courier New',monospace\">14:49:48.001 | <span style=\"color: #008080; text-decoration-color: #008080\">INFO</span>    | Task run 'extract_load_web_data-0' - Finished in state <span style=\"color: #008000; text-decoration-color: #008000\">Completed</span>()\n",
       "</pre>\n"
      ],
      "text/plain": [
       "14:49:48.001 | \u001b[36mINFO\u001b[0m    | Task run 'extract_load_web_data-0' - Finished in state \u001b[32mCompleted\u001b[0m()\n"
      ]
     },
     "metadata": {},
     "output_type": "display_data"
    },
    {
     "data": {
      "text/html": [
       "<pre style=\"white-space:pre;overflow-x:auto;line-height:normal;font-family:Menlo,'DejaVu Sans Mono',consolas,'Courier New',monospace\">14:49:48.053 | <span style=\"color: #008080; text-decoration-color: #008080\">INFO</span>    | Flow run<span style=\"color: #800080; text-decoration-color: #800080\"> 'macho-chowchow'</span> - Created task run 'load_csv_data-0' for task 'load_csv_data'\n",
       "</pre>\n"
      ],
      "text/plain": [
       "14:49:48.053 | \u001b[36mINFO\u001b[0m    | Flow run\u001b[35m 'macho-chowchow'\u001b[0m - Created task run 'load_csv_data-0' for task 'load_csv_data'\n"
      ]
     },
     "metadata": {},
     "output_type": "display_data"
    },
    {
     "data": {
      "text/html": [
       "<pre style=\"white-space:pre;overflow-x:auto;line-height:normal;font-family:Menlo,'DejaVu Sans Mono',consolas,'Courier New',monospace\">14:49:48.055 | <span style=\"color: #008080; text-decoration-color: #008080\">INFO</span>    | Flow run<span style=\"color: #800080; text-decoration-color: #800080\"> 'macho-chowchow'</span> - Executing 'load_csv_data-0' immediately...\n",
       "</pre>\n"
      ],
      "text/plain": [
       "14:49:48.055 | \u001b[36mINFO\u001b[0m    | Flow run\u001b[35m 'macho-chowchow'\u001b[0m - Executing 'load_csv_data-0' immediately...\n"
      ]
     },
     "metadata": {},
     "output_type": "display_data"
    },
    {
     "data": {
      "text/html": [
       "<pre style=\"white-space:pre;overflow-x:auto;line-height:normal;font-family:Menlo,'DejaVu Sans Mono',consolas,'Courier New',monospace\">14:49:48.187 | <span style=\"color: #008080; text-decoration-color: #008080\">INFO</span>    | Task run 'load_csv_data-0' - Finished in state <span style=\"color: #008000; text-decoration-color: #008000\">Completed</span>()\n",
       "</pre>\n"
      ],
      "text/plain": [
       "14:49:48.187 | \u001b[36mINFO\u001b[0m    | Task run 'load_csv_data-0' - Finished in state \u001b[32mCompleted\u001b[0m()\n"
      ]
     },
     "metadata": {},
     "output_type": "display_data"
    },
    {
     "data": {
      "text/html": [
       "<pre style=\"white-space:pre;overflow-x:auto;line-height:normal;font-family:Menlo,'DejaVu Sans Mono',consolas,'Courier New',monospace\">14:49:48.233 | <span style=\"color: #008080; text-decoration-color: #008080\">INFO</span>    | Flow run<span style=\"color: #800080; text-decoration-color: #800080\"> 'macho-chowchow'</span> - Created task run 'clean_local_data-0' for task 'clean_local_data'\n",
       "</pre>\n"
      ],
      "text/plain": [
       "14:49:48.233 | \u001b[36mINFO\u001b[0m    | Flow run\u001b[35m 'macho-chowchow'\u001b[0m - Created task run 'clean_local_data-0' for task 'clean_local_data'\n"
      ]
     },
     "metadata": {},
     "output_type": "display_data"
    },
    {
     "data": {
      "text/html": [
       "<pre style=\"white-space:pre;overflow-x:auto;line-height:normal;font-family:Menlo,'DejaVu Sans Mono',consolas,'Courier New',monospace\">14:49:48.236 | <span style=\"color: #008080; text-decoration-color: #008080\">INFO</span>    | Flow run<span style=\"color: #800080; text-decoration-color: #800080\"> 'macho-chowchow'</span> - Executing 'clean_local_data-0' immediately...\n",
       "</pre>\n"
      ],
      "text/plain": [
       "14:49:48.236 | \u001b[36mINFO\u001b[0m    | Flow run\u001b[35m 'macho-chowchow'\u001b[0m - Executing 'clean_local_data-0' immediately...\n"
      ]
     },
     "metadata": {},
     "output_type": "display_data"
    },
    {
     "name": "stderr",
     "output_type": "stream",
     "text": [
      "/tmp/ipykernel_45968/3782913062.py:7: FutureWarning: The default value of regex will change from True to False in a future version.\n",
      "  new_df.columns = new_df.columns.str.replace(\"[()]\", \"_\")\n"
     ]
    },
    {
     "data": {
      "text/html": [
       "<pre style=\"white-space:pre;overflow-x:auto;line-height:normal;font-family:Menlo,'DejaVu Sans Mono',consolas,'Courier New',monospace\">14:49:48.360 | <span style=\"color: #008080; text-decoration-color: #008080\">INFO</span>    | Task run 'clean_local_data-0' - Finished in state <span style=\"color: #008000; text-decoration-color: #008000\">Completed</span>()\n",
       "</pre>\n"
      ],
      "text/plain": [
       "14:49:48.360 | \u001b[36mINFO\u001b[0m    | Task run 'clean_local_data-0' - Finished in state \u001b[32mCompleted\u001b[0m()\n"
      ]
     },
     "metadata": {},
     "output_type": "display_data"
    },
    {
     "data": {
      "text/html": [
       "<pre style=\"white-space:pre;overflow-x:auto;line-height:normal;font-family:Menlo,'DejaVu Sans Mono',consolas,'Courier New',monospace\">14:49:48.413 | <span style=\"color: #008080; text-decoration-color: #008080\">INFO</span>    | Flow run<span style=\"color: #800080; text-decoration-color: #800080\"> 'macho-chowchow'</span> - Created task run 'transform_data-0' for task 'transform_data'\n",
       "</pre>\n"
      ],
      "text/plain": [
       "14:49:48.413 | \u001b[36mINFO\u001b[0m    | Flow run\u001b[35m 'macho-chowchow'\u001b[0m - Created task run 'transform_data-0' for task 'transform_data'\n"
      ]
     },
     "metadata": {},
     "output_type": "display_data"
    },
    {
     "data": {
      "text/html": [
       "<pre style=\"white-space:pre;overflow-x:auto;line-height:normal;font-family:Menlo,'DejaVu Sans Mono',consolas,'Courier New',monospace\">14:49:48.416 | <span style=\"color: #008080; text-decoration-color: #008080\">INFO</span>    | Flow run<span style=\"color: #800080; text-decoration-color: #800080\"> 'macho-chowchow'</span> - Executing 'transform_data-0' immediately...\n",
       "</pre>\n"
      ],
      "text/plain": [
       "14:49:48.416 | \u001b[36mINFO\u001b[0m    | Flow run\u001b[35m 'macho-chowchow'\u001b[0m - Executing 'transform_data-0' immediately...\n"
      ]
     },
     "metadata": {},
     "output_type": "display_data"
    },
    {
     "data": {
      "text/html": [
       "<pre style=\"white-space:pre;overflow-x:auto;line-height:normal;font-family:Menlo,'DejaVu Sans Mono',consolas,'Courier New',monospace\">14:49:48.529 | <span style=\"color: #008080; text-decoration-color: #008080\">INFO</span>    | Task run 'transform_data-0' - Finished in state <span style=\"color: #008000; text-decoration-color: #008000\">Completed</span>()\n",
       "</pre>\n"
      ],
      "text/plain": [
       "14:49:48.529 | \u001b[36mINFO\u001b[0m    | Task run 'transform_data-0' - Finished in state \u001b[32mCompleted\u001b[0m()\n"
      ]
     },
     "metadata": {},
     "output_type": "display_data"
    },
    {
     "data": {
      "text/html": [
       "<pre style=\"white-space:pre;overflow-x:auto;line-height:normal;font-family:Menlo,'DejaVu Sans Mono',consolas,'Courier New',monospace\">14:49:48.577 | <span style=\"color: #008080; text-decoration-color: #008080\">INFO</span>    | Flow run<span style=\"color: #800080; text-decoration-color: #800080\"> 'macho-chowchow'</span> - Created task run 'save_transformed_data-0' for task 'save_transformed_data'\n",
       "</pre>\n"
      ],
      "text/plain": [
       "14:49:48.577 | \u001b[36mINFO\u001b[0m    | Flow run\u001b[35m 'macho-chowchow'\u001b[0m - Created task run 'save_transformed_data-0' for task 'save_transformed_data'\n"
      ]
     },
     "metadata": {},
     "output_type": "display_data"
    },
    {
     "data": {
      "text/html": [
       "<pre style=\"white-space:pre;overflow-x:auto;line-height:normal;font-family:Menlo,'DejaVu Sans Mono',consolas,'Courier New',monospace\">14:49:48.580 | <span style=\"color: #008080; text-decoration-color: #008080\">INFO</span>    | Flow run<span style=\"color: #800080; text-decoration-color: #800080\"> 'macho-chowchow'</span> - Executing 'save_transformed_data-0' immediately...\n",
       "</pre>\n"
      ],
      "text/plain": [
       "14:49:48.580 | \u001b[36mINFO\u001b[0m    | Flow run\u001b[35m 'macho-chowchow'\u001b[0m - Executing 'save_transformed_data-0' immediately...\n"
      ]
     },
     "metadata": {},
     "output_type": "display_data"
    },
    {
     "data": {
      "text/html": [
       "<pre style=\"white-space:pre;overflow-x:auto;line-height:normal;font-family:Menlo,'DejaVu Sans Mono',consolas,'Courier New',monospace\">14:49:48.750 | <span style=\"color: #008080; text-decoration-color: #008080\">INFO</span>    | Task run 'save_transformed_data-0' - Finished in state <span style=\"color: #008000; text-decoration-color: #008000\">Completed</span>()\n",
       "</pre>\n"
      ],
      "text/plain": [
       "14:49:48.750 | \u001b[36mINFO\u001b[0m    | Task run 'save_transformed_data-0' - Finished in state \u001b[32mCompleted\u001b[0m()\n"
      ]
     },
     "metadata": {},
     "output_type": "display_data"
    },
    {
     "data": {
      "text/html": [
       "<pre style=\"white-space:pre;overflow-x:auto;line-height:normal;font-family:Menlo,'DejaVu Sans Mono',consolas,'Courier New',monospace\">14:49:48.800 | <span style=\"color: #008080; text-decoration-color: #008080\">INFO</span>    | Flow run<span style=\"color: #800080; text-decoration-color: #800080\"> 'macho-chowchow'</span> - Created task run 'write_gcs-0' for task 'write_gcs'\n",
       "</pre>\n"
      ],
      "text/plain": [
       "14:49:48.800 | \u001b[36mINFO\u001b[0m    | Flow run\u001b[35m 'macho-chowchow'\u001b[0m - Created task run 'write_gcs-0' for task 'write_gcs'\n"
      ]
     },
     "metadata": {},
     "output_type": "display_data"
    },
    {
     "data": {
      "text/html": [
       "<pre style=\"white-space:pre;overflow-x:auto;line-height:normal;font-family:Menlo,'DejaVu Sans Mono',consolas,'Courier New',monospace\">14:49:48.802 | <span style=\"color: #008080; text-decoration-color: #008080\">INFO</span>    | Flow run<span style=\"color: #800080; text-decoration-color: #800080\"> 'macho-chowchow'</span> - Executing 'write_gcs-0' immediately...\n",
       "</pre>\n"
      ],
      "text/plain": [
       "14:49:48.802 | \u001b[36mINFO\u001b[0m    | Flow run\u001b[35m 'macho-chowchow'\u001b[0m - Executing 'write_gcs-0' immediately...\n"
      ]
     },
     "metadata": {},
     "output_type": "display_data"
    },
    {
     "data": {
      "text/html": [
       "<pre style=\"white-space:pre;overflow-x:auto;line-height:normal;font-family:Menlo,'DejaVu Sans Mono',consolas,'Courier New',monospace\">14:49:48.951 | <span style=\"color: #008080; text-decoration-color: #008080\">INFO</span>    | Task run 'write_gcs-0' - Getting bucket 'dtc_data_lake_dc-project-2023'.\n",
       "</pre>\n"
      ],
      "text/plain": [
       "14:49:48.951 | \u001b[36mINFO\u001b[0m    | Task run 'write_gcs-0' - Getting bucket 'dtc_data_lake_dc-project-2023'.\n"
      ]
     },
     "metadata": {},
     "output_type": "display_data"
    },
    {
     "data": {
      "text/html": [
       "<pre style=\"white-space:pre;overflow-x:auto;line-height:normal;font-family:Menlo,'DejaVu Sans Mono',consolas,'Courier New',monospace\">14:49:49.262 | <span style=\"color: #008080; text-decoration-color: #008080\">INFO</span>    | Task run 'write_gcs-0' - Uploading from 'Number-and-types-of-applications-by-all-account-customers-2022-03.parquet' to the bucket 'dtc_data_lake_dc-project-2023' path 'Land_and_Property/Number-and-types-of-applications-by-all-account-customers-2022-03'.\n",
       "</pre>\n"
      ],
      "text/plain": [
       "14:49:49.262 | \u001b[36mINFO\u001b[0m    | Task run 'write_gcs-0' - Uploading from 'Number-and-types-of-applications-by-all-account-customers-2022-03.parquet' to the bucket 'dtc_data_lake_dc-project-2023' path 'Land_and_Property/Number-and-types-of-applications-by-all-account-customers-2022-03'.\n"
      ]
     },
     "metadata": {},
     "output_type": "display_data"
    },
    {
     "data": {
      "text/html": [
       "<pre style=\"white-space:pre;overflow-x:auto;line-height:normal;font-family:Menlo,'DejaVu Sans Mono',consolas,'Courier New',monospace\">14:49:49.465 | <span style=\"color: #008080; text-decoration-color: #008080\">INFO</span>    | Task run 'write_gcs-0' - Finished in state <span style=\"color: #008000; text-decoration-color: #008000\">Completed</span>()\n",
       "</pre>\n"
      ],
      "text/plain": [
       "14:49:49.465 | \u001b[36mINFO\u001b[0m    | Task run 'write_gcs-0' - Finished in state \u001b[32mCompleted\u001b[0m()\n"
      ]
     },
     "metadata": {},
     "output_type": "display_data"
    },
    {
     "data": {
      "text/html": [
       "<pre style=\"white-space:pre;overflow-x:auto;line-height:normal;font-family:Menlo,'DejaVu Sans Mono',consolas,'Courier New',monospace\">14:49:49.521 | <span style=\"color: #008080; text-decoration-color: #008080\">INFO</span>    | Flow run<span style=\"color: #800080; text-decoration-color: #800080\"> 'macho-chowchow'</span> - Created task run 'write_bq-0' for task 'write_bq'\n",
       "</pre>\n"
      ],
      "text/plain": [
       "14:49:49.521 | \u001b[36mINFO\u001b[0m    | Flow run\u001b[35m 'macho-chowchow'\u001b[0m - Created task run 'write_bq-0' for task 'write_bq'\n"
      ]
     },
     "metadata": {},
     "output_type": "display_data"
    },
    {
     "data": {
      "text/html": [
       "<pre style=\"white-space:pre;overflow-x:auto;line-height:normal;font-family:Menlo,'DejaVu Sans Mono',consolas,'Courier New',monospace\">14:49:49.523 | <span style=\"color: #008080; text-decoration-color: #008080\">INFO</span>    | Flow run<span style=\"color: #800080; text-decoration-color: #800080\"> 'macho-chowchow'</span> - Executing 'write_bq-0' immediately...\n",
       "</pre>\n"
      ],
      "text/plain": [
       "14:49:49.523 | \u001b[36mINFO\u001b[0m    | Flow run\u001b[35m 'macho-chowchow'\u001b[0m - Executing 'write_bq-0' immediately...\n"
      ]
     },
     "metadata": {},
     "output_type": "display_data"
    },
    {
     "name": "stdout",
     "output_type": "stream",
     "text": [
      "       Account Customer  FR  DFL  TP  DLG  OS_W_  OS_NPW_  OS_P_  OS_NPP_  \\\n",
      "0     1 CLICK HOMES LTD   0    0   0    0      0        0      0        0   \n",
      "1           15K LIMITED   0    0   0    0      0        0      0        0   \n",
      "2           192.COM LTD   0    0   0    0      0        0      0        0   \n",
      "3  1PLUS1 LOANS LIMITED   0    0   0    1      0        0      0        0   \n",
      "4      1PM (UK) LIMITED   0    0   0    1      0        0      0        0   \n",
      "\n",
      "   SIMS  OC1  OC2  date_added  \n",
      "0     0    1    0  01.03.2022  \n",
      "1     0    4    0  01.03.2022  \n",
      "2     0  348    0  01.03.2022  \n",
      "3     0   26    0  01.03.2022  \n",
      "4     0   40    0  01.03.2022  \n"
     ]
    },
    {
     "data": {
      "text/html": [
       "<pre style=\"white-space:pre;overflow-x:auto;line-height:normal;font-family:Menlo,'DejaVu Sans Mono',consolas,'Courier New',monospace\">14:49:53.906 | <span style=\"color: #008080; text-decoration-color: #008080\">INFO</span>    | Task run 'write_bq-0' - Finished in state <span style=\"color: #008000; text-decoration-color: #008000\">Completed</span>()\n",
       "</pre>\n"
      ],
      "text/plain": [
       "14:49:53.906 | \u001b[36mINFO\u001b[0m    | Task run 'write_bq-0' - Finished in state \u001b[32mCompleted\u001b[0m()\n"
      ]
     },
     "metadata": {},
     "output_type": "display_data"
    },
    {
     "data": {
      "text/html": [
       "<pre style=\"white-space:pre;overflow-x:auto;line-height:normal;font-family:Menlo,'DejaVu Sans Mono',consolas,'Courier New',monospace\">14:49:53.973 | <span style=\"color: #008080; text-decoration-color: #008080\">INFO</span>    | Flow run<span style=\"color: #800080; text-decoration-color: #800080\"> 'macho-chowchow'</span> - Finished in state <span style=\"color: #008000; text-decoration-color: #008000\">Completed</span>('All states completed.')\n",
       "</pre>\n"
      ],
      "text/plain": [
       "14:49:53.973 | \u001b[36mINFO\u001b[0m    | Flow run\u001b[35m 'macho-chowchow'\u001b[0m - Finished in state \u001b[32mCompleted\u001b[0m('All states completed.')\n"
      ]
     },
     "metadata": {},
     "output_type": "display_data"
    },
    {
     "data": {
      "text/html": [
       "<pre style=\"white-space:pre;overflow-x:auto;line-height:normal;font-family:Menlo,'DejaVu Sans Mono',consolas,'Courier New',monospace\">14:49:54.028 | <span style=\"color: #008080; text-decoration-color: #008080\">INFO</span>    | Flow run<span style=\"color: #800080; text-decoration-color: #800080\"> 'slick-grouse'</span> - Finished in state <span style=\"color: #008000; text-decoration-color: #008000\">Completed</span>('All states completed.')\n",
       "</pre>\n"
      ],
      "text/plain": [
       "14:49:54.028 | \u001b[36mINFO\u001b[0m    | Flow run\u001b[35m 'slick-grouse'\u001b[0m - Finished in state \u001b[32mCompleted\u001b[0m('All states completed.')\n"
      ]
     },
     "metadata": {},
     "output_type": "display_data"
    }
   ],
   "source": [
    "if __name__ == '__main__':\n",
    "    years=[2022]\n",
    "    months=[2,3]\n",
    "    etl_parent_flow(years, months) "
   ]
  }
 ],
 "metadata": {
  "kernelspec": {
   "display_name": "py_env",
   "language": "python",
   "name": "python3"
  },
  "language_info": {
   "codemirror_mode": {
    "name": "ipython",
    "version": 3
   },
   "file_extension": ".py",
   "mimetype": "text/x-python",
   "name": "python",
   "nbconvert_exporter": "python",
   "pygments_lexer": "ipython3",
   "version": "3.10.7"
  },
  "orig_nbformat": 4
 },
 "nbformat": 4,
 "nbformat_minor": 2
}
