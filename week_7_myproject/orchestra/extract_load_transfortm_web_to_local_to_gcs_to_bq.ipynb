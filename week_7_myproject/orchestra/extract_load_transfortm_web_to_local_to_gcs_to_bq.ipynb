{
 "cells": [
  {
   "cell_type": "code",
   "execution_count": 15,
   "metadata": {},
   "outputs": [],
   "source": [
    "from pathlib import Path\n",
    "import pandas as pd\n",
    "from prefect import flow, task\n",
    "from prefect_gcp.cloud_storage import GcsBucket\n",
    "from prefect_gcp import GcpCredentials\n",
    "import io\n",
    "import os\n",
    "import requests\n",
    "import calendar"
   ]
  },
  {
   "cell_type": "code",
   "execution_count": 16,
   "metadata": {},
   "outputs": [
    {
     "name": "stderr",
     "output_type": "stream",
     "text": [
      "/home/linux_dev_env/py_env/lib/python3.10/site-packages/prefect/tasks.py:261: UserWarning: A task named 'extract_load_web_data' and defined at '/tmp/ipykernel_1015847/1744432909.py:1' conflicts with another task. Consider specifying a unique `name` parameter in the task definition:\n",
      "\n",
      " `@task(name='my_unique_name', ...)`\n",
      "  warnings.warn(\n"
     ]
    }
   ],
   "source": [
    "@task(retries=3)\n",
    "def extract_load_web_data(year:int , month:int,file_name) -> None:\n",
    "    request_url =f\"https://use-land-property-data.service.gov.uk/datasets/td/download/history/{calendar.month_name[month]}%20{year}/{file_name}.csv\"\n",
    "    r = requests.get(request_url)\n",
    "    url_content=r.content\n",
    "    csv_file = open(f'{file_name}.csv', 'wb')\n",
    "    csv_file.write(url_content)\n",
    "    csv_file.close()"
   ]
  },
  {
   "cell_type": "code",
   "execution_count": 17,
   "metadata": {},
   "outputs": [
    {
     "name": "stderr",
     "output_type": "stream",
     "text": [
      "/home/linux_dev_env/py_env/lib/python3.10/site-packages/prefect/tasks.py:261: UserWarning: A task named 'load_csv_data' and defined at '/tmp/ipykernel_1015847/3339839138.py:1' conflicts with another task. Consider specifying a unique `name` parameter in the task definition:\n",
      "\n",
      " `@task(name='my_unique_name', ...)`\n",
      "  warnings.warn(\n"
     ]
    }
   ],
   "source": [
    "@task()\n",
    "def load_csv_data (file_name: str) -> pd.DataFrame:\n",
    "    df = pd.read_csv(f\"{file_name}.csv\", sep=',', header=4, index_col=False)\n",
    "    return df"
   ]
  },
  {
   "cell_type": "code",
   "execution_count": 18,
   "metadata": {},
   "outputs": [
    {
     "name": "stderr",
     "output_type": "stream",
     "text": [
      "/home/linux_dev_env/py_env/lib/python3.10/site-packages/prefect/tasks.py:261: UserWarning: A task named 'clean_local_data' and defined at '/tmp/ipykernel_1015847/2651271778.py:1' conflicts with another task. Consider specifying a unique `name` parameter in the task definition:\n",
      "\n",
      " `@task(name='my_unique_name', ...)`\n",
      "  warnings.warn(\n"
     ]
    }
   ],
   "source": [
    "@task()\n",
    "def clean_local_data(df: pd.DataFrame) -> pd.DataFrame:\n",
    "    \"\"\" We need to add a date column for each DataFrame \"\"\"\n",
    "    new_df = df[df[\"Account Customer\"].str.contains(\"Total\")==False]\n",
    "    \"\"\" We are dropping the \"Total\" Column from the Dataframe \"\"\"\n",
    "    new_df = new_df.drop([\"Total\"], axis=1)\n",
    "    new_df = new_df.columns.str.replace(\"[()]\", \"_\")\n",
    "    return new_df"
   ]
  },
  {
   "cell_type": "code",
   "execution_count": 19,
   "metadata": {},
   "outputs": [
    {
     "name": "stderr",
     "output_type": "stream",
     "text": [
      "/home/linux_dev_env/py_env/lib/python3.10/site-packages/prefect/tasks.py:261: UserWarning: A task named 'transform_data' and defined at '/tmp/ipykernel_1015847/2430716275.py:1' conflicts with another task. Consider specifying a unique `name` parameter in the task definition:\n",
      "\n",
      " `@task(name='my_unique_name', ...)`\n",
      "  warnings.warn(\n"
     ]
    }
   ],
   "source": [
    "@task()\n",
    "def transform_data(df: pd.DataFrame, year, month) -> pd.DataFrame:\n",
    "    df[\"date_added\"] = f\"01.{month:02}.{year}\"\n",
    "    return df"
   ]
  },
  {
   "cell_type": "code",
   "execution_count": 20,
   "metadata": {},
   "outputs": [
    {
     "name": "stderr",
     "output_type": "stream",
     "text": [
      "/home/linux_dev_env/py_env/lib/python3.10/site-packages/prefect/tasks.py:261: UserWarning: A task named 'save_transformed_data' and defined at '/tmp/ipykernel_1015847/4246081314.py:1' conflicts with another task. Consider specifying a unique `name` parameter in the task definition:\n",
      "\n",
      " `@task(name='my_unique_name', ...)`\n",
      "  warnings.warn(\n"
     ]
    }
   ],
   "source": [
    "@task()\n",
    "def save_transformed_data(df: pd.DataFrame, file_name) -> None:\n",
    "    df.to_parquet(f\"{file_name}.parquet\", compression=\"gzip\", index=False)\n",
    "    df = pd.read_parquet(f\"{file_name}.parquet\")\n",
    "    return df"
   ]
  },
  {
   "cell_type": "code",
   "execution_count": 21,
   "metadata": {},
   "outputs": [
    {
     "name": "stderr",
     "output_type": "stream",
     "text": [
      "/home/linux_dev_env/py_env/lib/python3.10/site-packages/prefect/tasks.py:261: UserWarning: A task named 'write_gcs' and defined at '/tmp/ipykernel_1015847/1425389079.py:1' conflicts with another task. Consider specifying a unique `name` parameter in the task definition:\n",
      "\n",
      " `@task(name='my_unique_name', ...)`\n",
      "  warnings.warn(\n"
     ]
    }
   ],
   "source": [
    "@task()\n",
    "def write_gcs(file_name: str, path_gcp) -> None:\n",
    "    \"\"\"Upload local parquet FIle \"\"\"\n",
    "    gcp_cloud_storage_bucket_block = GcsBucket.load(\"gcp-project-dc\")\n",
    "    gcp_cloud_storage_bucket_block.upload_from_path(\n",
    "        from_path = f\"{file_name}.parquet\",\n",
    "        to_path=f\"{path_gcp}/{file_name}\"\n",
    "    )"
   ]
  },
  {
   "cell_type": "code",
   "execution_count": 22,
   "metadata": {},
   "outputs": [
    {
     "name": "stderr",
     "output_type": "stream",
     "text": [
      "/home/linux_dev_env/py_env/lib/python3.10/site-packages/prefect/tasks.py:261: UserWarning: A task named 'write_bq' and defined at '/tmp/ipykernel_1015847/1188040828.py:1' conflicts with another task. Consider specifying a unique `name` parameter in the task definition:\n",
      "\n",
      " `@task(name='my_unique_name', ...)`\n",
      "  warnings.warn(\n"
     ]
    }
   ],
   "source": [
    "@task()\n",
    "def write_bq(df: pd.DataFrame) -> None:\n",
    "    \"\"\"Write DataFrame to BigQuery\"\"\"\n",
    "    gcp_credentials_block = GcpCredentials.load(\"gcp-project-2023\")\n",
    "    df.to_gbq(\n",
    "        destination_table=\"project_dwh.land_and_property\", # Dataset.TableName\n",
    "        project_id=\"dc-project-2023\",\n",
    "        credentials=gcp_credentials_block.get_credentials_from_service_account(),\n",
    "        chunksize=500.000,\n",
    "        if_exists=\"append\",\n",
    "    )"
   ]
  },
  {
   "cell_type": "code",
   "execution_count": 23,
   "metadata": {},
   "outputs": [
    {
     "name": "stderr",
     "output_type": "stream",
     "text": [
      "/home/linux_dev_env/py_env/lib/python3.10/site-packages/prefect/flows.py:206: UserWarning: A flow named 'etl-web-to-local-to-gcs' and defined at '/tmp/ipykernel_1015847/506873230.py:1' conflicts with another flow. Consider specifying a unique `name` parameter in the flow definition:\n",
      "\n",
      " `@flow(name='my_unique_name', ...)`\n",
      "  warnings.warn(\n"
     ]
    }
   ],
   "source": [
    "@flow()\n",
    "def etl_web_to_local_to_gcs(year: int, month: int) -> None:\n",
    "    file_name = f\"Number-and-types-of-applications-by-all-account-customers-{year}-{month:02}\"\n",
    "    extract_load_web_data(year, month, file_name)\n",
    "    raw_df = load_csv_data(file_name)\n",
    "    cleaned_df = clean_local_data(raw_df)\n",
    "    transformed_df = transform_data (cleaned_df, year, month)\n",
    "    final_df = save_transformed_data (transformed_df, file_name)\n",
    "    write_gcs(file_name, \"Land_and_Property\")\n",
    "    write_bq(final_df)\n",
    "    "
   ]
  },
  {
   "cell_type": "code",
   "execution_count": 24,
   "metadata": {},
   "outputs": [
    {
     "name": "stderr",
     "output_type": "stream",
     "text": [
      "/home/linux_dev_env/py_env/lib/python3.10/site-packages/prefect/flows.py:206: UserWarning: A flow named 'etl-parent-flow' and defined at '/tmp/ipykernel_1015847/1325823985.py:1' conflicts with another flow. Consider specifying a unique `name` parameter in the flow definition:\n",
      "\n",
      " `@flow(name='my_unique_name', ...)`\n",
      "  warnings.warn(\n"
     ]
    }
   ],
   "source": [
    "@flow()\n",
    "def etl_parent_flow(years:list[int] , months:list[int]) -> None:\n",
    "    for year in years:\n",
    "        for month in months:\n",
    "            etl_web_to_local_to_gcs(year, month)"
   ]
  },
  {
   "attachments": {},
   "cell_type": "markdown",
   "metadata": {},
   "source": [
    "## Execution"
   ]
  },
  {
   "cell_type": "code",
   "execution_count": 25,
   "metadata": {},
   "outputs": [
    {
     "data": {
      "text/html": [
       "<pre style=\"white-space:pre;overflow-x:auto;line-height:normal;font-family:Menlo,'DejaVu Sans Mono',consolas,'Courier New',monospace\">12:54:30.188 | <span style=\"color: #008080; text-decoration-color: #008080\">INFO</span>    | prefect.engine - Created flow run<span style=\"color: #800080; text-decoration-color: #800080\"> 'happy-dingo'</span> for flow<span style=\"color: #800080; text-decoration-color: #800080; font-weight: bold\"> 'etl-parent-flow'</span>\n",
       "</pre>\n"
      ],
      "text/plain": [
       "12:54:30.188 | \u001b[36mINFO\u001b[0m    | prefect.engine - Created flow run\u001b[35m 'happy-dingo'\u001b[0m for flow\u001b[1;35m 'etl-parent-flow'\u001b[0m\n"
      ]
     },
     "metadata": {},
     "output_type": "display_data"
    },
    {
     "name": "stderr",
     "output_type": "stream",
     "text": [
      "/home/linux_dev_env/py_env/lib/python3.10/site-packages/prefect/tasks.py:261: UserWarning: A task named 'etl-web-to-local-to-gcs' and defined at '/tmp/ipykernel_1015847/506873230.py:1' conflicts with another task. Consider specifying a unique `name` parameter in the task definition:\n",
      "\n",
      " `@task(name='my_unique_name', ...)`\n",
      "  warnings.warn(\n"
     ]
    },
    {
     "data": {
      "text/html": [
       "<pre style=\"white-space:pre;overflow-x:auto;line-height:normal;font-family:Menlo,'DejaVu Sans Mono',consolas,'Courier New',monospace\">12:54:30.484 | <span style=\"color: #008080; text-decoration-color: #008080\">INFO</span>    | Flow run<span style=\"color: #800080; text-decoration-color: #800080\"> 'happy-dingo'</span> - Created subflow run<span style=\"color: #800080; text-decoration-color: #800080\"> 'eggplant-woodpecker'</span> for flow<span style=\"color: #800080; text-decoration-color: #800080; font-weight: bold\"> 'etl-web-to-local-to-gcs'</span>\n",
       "</pre>\n"
      ],
      "text/plain": [
       "12:54:30.484 | \u001b[36mINFO\u001b[0m    | Flow run\u001b[35m 'happy-dingo'\u001b[0m - Created subflow run\u001b[35m 'eggplant-woodpecker'\u001b[0m for flow\u001b[1;35m 'etl-web-to-local-to-gcs'\u001b[0m\n"
      ]
     },
     "metadata": {},
     "output_type": "display_data"
    },
    {
     "data": {
      "text/html": [
       "<pre style=\"white-space:pre;overflow-x:auto;line-height:normal;font-family:Menlo,'DejaVu Sans Mono',consolas,'Courier New',monospace\">12:54:30.601 | <span style=\"color: #008080; text-decoration-color: #008080\">INFO</span>    | Flow run<span style=\"color: #800080; text-decoration-color: #800080\"> 'eggplant-woodpecker'</span> - Created task run 'extract_load_web_data-0' for task 'extract_load_web_data'\n",
       "</pre>\n"
      ],
      "text/plain": [
       "12:54:30.601 | \u001b[36mINFO\u001b[0m    | Flow run\u001b[35m 'eggplant-woodpecker'\u001b[0m - Created task run 'extract_load_web_data-0' for task 'extract_load_web_data'\n"
      ]
     },
     "metadata": {},
     "output_type": "display_data"
    },
    {
     "data": {
      "text/html": [
       "<pre style=\"white-space:pre;overflow-x:auto;line-height:normal;font-family:Menlo,'DejaVu Sans Mono',consolas,'Courier New',monospace\">12:54:30.604 | <span style=\"color: #008080; text-decoration-color: #008080\">INFO</span>    | Flow run<span style=\"color: #800080; text-decoration-color: #800080\"> 'eggplant-woodpecker'</span> - Executing 'extract_load_web_data-0' immediately...\n",
       "</pre>\n"
      ],
      "text/plain": [
       "12:54:30.604 | \u001b[36mINFO\u001b[0m    | Flow run\u001b[35m 'eggplant-woodpecker'\u001b[0m - Executing 'extract_load_web_data-0' immediately...\n"
      ]
     },
     "metadata": {},
     "output_type": "display_data"
    },
    {
     "data": {
      "text/html": [
       "<pre style=\"white-space:pre;overflow-x:auto;line-height:normal;font-family:Menlo,'DejaVu Sans Mono',consolas,'Courier New',monospace\">12:54:37.042 | <span style=\"color: #008080; text-decoration-color: #008080\">INFO</span>    | Task run 'extract_load_web_data-0' - Finished in state <span style=\"color: #008000; text-decoration-color: #008000\">Completed</span>()\n",
       "</pre>\n"
      ],
      "text/plain": [
       "12:54:37.042 | \u001b[36mINFO\u001b[0m    | Task run 'extract_load_web_data-0' - Finished in state \u001b[32mCompleted\u001b[0m()\n"
      ]
     },
     "metadata": {},
     "output_type": "display_data"
    },
    {
     "data": {
      "text/html": [
       "<pre style=\"white-space:pre;overflow-x:auto;line-height:normal;font-family:Menlo,'DejaVu Sans Mono',consolas,'Courier New',monospace\">12:54:37.104 | <span style=\"color: #008080; text-decoration-color: #008080\">INFO</span>    | Flow run<span style=\"color: #800080; text-decoration-color: #800080\"> 'eggplant-woodpecker'</span> - Created task run 'load_csv_data-0' for task 'load_csv_data'\n",
       "</pre>\n"
      ],
      "text/plain": [
       "12:54:37.104 | \u001b[36mINFO\u001b[0m    | Flow run\u001b[35m 'eggplant-woodpecker'\u001b[0m - Created task run 'load_csv_data-0' for task 'load_csv_data'\n"
      ]
     },
     "metadata": {},
     "output_type": "display_data"
    },
    {
     "data": {
      "text/html": [
       "<pre style=\"white-space:pre;overflow-x:auto;line-height:normal;font-family:Menlo,'DejaVu Sans Mono',consolas,'Courier New',monospace\">12:54:37.107 | <span style=\"color: #008080; text-decoration-color: #008080\">INFO</span>    | Flow run<span style=\"color: #800080; text-decoration-color: #800080\"> 'eggplant-woodpecker'</span> - Executing 'load_csv_data-0' immediately...\n",
       "</pre>\n"
      ],
      "text/plain": [
       "12:54:37.107 | \u001b[36mINFO\u001b[0m    | Flow run\u001b[35m 'eggplant-woodpecker'\u001b[0m - Executing 'load_csv_data-0' immediately...\n"
      ]
     },
     "metadata": {},
     "output_type": "display_data"
    },
    {
     "data": {
      "text/html": [
       "<pre style=\"white-space:pre;overflow-x:auto;line-height:normal;font-family:Menlo,'DejaVu Sans Mono',consolas,'Courier New',monospace\">12:54:37.297 | <span style=\"color: #008080; text-decoration-color: #008080\">INFO</span>    | Task run 'load_csv_data-0' - Finished in state <span style=\"color: #008000; text-decoration-color: #008000\">Completed</span>()\n",
       "</pre>\n"
      ],
      "text/plain": [
       "12:54:37.297 | \u001b[36mINFO\u001b[0m    | Task run 'load_csv_data-0' - Finished in state \u001b[32mCompleted\u001b[0m()\n"
      ]
     },
     "metadata": {},
     "output_type": "display_data"
    },
    {
     "data": {
      "text/html": [
       "<pre style=\"white-space:pre;overflow-x:auto;line-height:normal;font-family:Menlo,'DejaVu Sans Mono',consolas,'Courier New',monospace\">12:54:37.364 | <span style=\"color: #008080; text-decoration-color: #008080\">INFO</span>    | Flow run<span style=\"color: #800080; text-decoration-color: #800080\"> 'eggplant-woodpecker'</span> - Created task run 'clean_local_data-0' for task 'clean_local_data'\n",
       "</pre>\n"
      ],
      "text/plain": [
       "12:54:37.364 | \u001b[36mINFO\u001b[0m    | Flow run\u001b[35m 'eggplant-woodpecker'\u001b[0m - Created task run 'clean_local_data-0' for task 'clean_local_data'\n"
      ]
     },
     "metadata": {},
     "output_type": "display_data"
    },
    {
     "data": {
      "text/html": [
       "<pre style=\"white-space:pre;overflow-x:auto;line-height:normal;font-family:Menlo,'DejaVu Sans Mono',consolas,'Courier New',monospace\">12:54:37.366 | <span style=\"color: #008080; text-decoration-color: #008080\">INFO</span>    | Flow run<span style=\"color: #800080; text-decoration-color: #800080\"> 'eggplant-woodpecker'</span> - Executing 'clean_local_data-0' immediately...\n",
       "</pre>\n"
      ],
      "text/plain": [
       "12:54:37.366 | \u001b[36mINFO\u001b[0m    | Flow run\u001b[35m 'eggplant-woodpecker'\u001b[0m - Executing 'clean_local_data-0' immediately...\n"
      ]
     },
     "metadata": {},
     "output_type": "display_data"
    },
    {
     "name": "stderr",
     "output_type": "stream",
     "text": [
      "/tmp/ipykernel_1015847/2651271778.py:7: FutureWarning: The default value of regex will change from True to False in a future version.\n",
      "  new_df = new_df.columns.str.replace(\"[()]\", \"_\")\n"
     ]
    },
    {
     "data": {
      "text/html": [
       "<pre style=\"white-space:pre;overflow-x:auto;line-height:normal;font-family:Menlo,'DejaVu Sans Mono',consolas,'Courier New',monospace\">12:54:37.490 | <span style=\"color: #008080; text-decoration-color: #008080\">INFO</span>    | Task run 'clean_local_data-0' - Finished in state <span style=\"color: #008000; text-decoration-color: #008000\">Completed</span>()\n",
       "</pre>\n"
      ],
      "text/plain": [
       "12:54:37.490 | \u001b[36mINFO\u001b[0m    | Task run 'clean_local_data-0' - Finished in state \u001b[32mCompleted\u001b[0m()\n"
      ]
     },
     "metadata": {},
     "output_type": "display_data"
    },
    {
     "data": {
      "text/html": [
       "<pre style=\"white-space:pre;overflow-x:auto;line-height:normal;font-family:Menlo,'DejaVu Sans Mono',consolas,'Courier New',monospace\">12:54:37.541 | <span style=\"color: #008080; text-decoration-color: #008080\">INFO</span>    | Flow run<span style=\"color: #800080; text-decoration-color: #800080\"> 'eggplant-woodpecker'</span> - Created task run 'transform_data-0' for task 'transform_data'\n",
       "</pre>\n"
      ],
      "text/plain": [
       "12:54:37.541 | \u001b[36mINFO\u001b[0m    | Flow run\u001b[35m 'eggplant-woodpecker'\u001b[0m - Created task run 'transform_data-0' for task 'transform_data'\n"
      ]
     },
     "metadata": {},
     "output_type": "display_data"
    },
    {
     "data": {
      "text/html": [
       "<pre style=\"white-space:pre;overflow-x:auto;line-height:normal;font-family:Menlo,'DejaVu Sans Mono',consolas,'Courier New',monospace\">12:54:37.544 | <span style=\"color: #008080; text-decoration-color: #008080\">INFO</span>    | Flow run<span style=\"color: #800080; text-decoration-color: #800080\"> 'eggplant-woodpecker'</span> - Executing 'transform_data-0' immediately...\n",
       "</pre>\n"
      ],
      "text/plain": [
       "12:54:37.544 | \u001b[36mINFO\u001b[0m    | Flow run\u001b[35m 'eggplant-woodpecker'\u001b[0m - Executing 'transform_data-0' immediately...\n"
      ]
     },
     "metadata": {},
     "output_type": "display_data"
    },
    {
     "data": {
      "text/html": [
       "<pre style=\"white-space:pre;overflow-x:auto;line-height:normal;font-family:Menlo,'DejaVu Sans Mono',consolas,'Courier New',monospace\">12:54:37.623 | <span style=\"color: #d70000; text-decoration-color: #d70000\">ERROR</span>   | Task run 'transform_data-0' - Encountered exception during execution:\n",
       "Traceback (most recent call last):\n",
       "  File \"/home/linux_dev_env/py_env/lib/python3.10/site-packages/prefect/engine.py\", line 1487, in orchestrate_task_run\n",
       "    result = await run_sync(task.fn, *args, **kwargs)\n",
       "  File \"/home/linux_dev_env/py_env/lib/python3.10/site-packages/prefect/utilities/asyncutils.py\", line 154, in run_sync_in_interruptible_worker_thread\n",
       "    async with anyio.create_task_group() as tg:\n",
       "  File \"/home/linux_dev_env/py_env/lib/python3.10/site-packages/anyio/_backends/_asyncio.py\", line 662, in __aexit__\n",
       "    raise exceptions[0]\n",
       "  File \"/home/linux_dev_env/py_env/lib/python3.10/site-packages/anyio/to_thread.py\", line 31, in run_sync\n",
       "    return await get_asynclib().run_sync_in_worker_thread(\n",
       "  File \"/home/linux_dev_env/py_env/lib/python3.10/site-packages/anyio/_backends/_asyncio.py\", line 937, in run_sync_in_worker_thread\n",
       "    return await future\n",
       "  File \"/home/linux_dev_env/py_env/lib/python3.10/site-packages/anyio/_backends/_asyncio.py\", line 867, in run\n",
       "    result = context.run(func, *args)\n",
       "  File \"/home/linux_dev_env/py_env/lib/python3.10/site-packages/prefect/utilities/asyncutils.py\", line 135, in capture_worker_thread_and_result\n",
       "    result = __fn(*args, **kwargs)\n",
       "  File \"/tmp/ipykernel_1015847/2430716275.py\", line 3, in transform_data\n",
       "    df[\"date_added\"] = f\"01.{month:02}.{year}\"\n",
       "  File \"/home/linux_dev_env/py_env/lib/python3.10/site-packages/pandas/core/indexes/base.py\", line 5302, in __setitem__\n",
       "    raise TypeError(\"Index does not support mutable operations\")\n",
       "TypeError: Index does not support mutable operations\n",
       "</pre>\n"
      ],
      "text/plain": [
       "12:54:37.623 | \u001b[38;5;160mERROR\u001b[0m   | Task run 'transform_data-0' - Encountered exception during execution:\n",
       "Traceback (most recent call last):\n",
       "  File \"/home/linux_dev_env/py_env/lib/python3.10/site-packages/prefect/engine.py\", line 1487, in orchestrate_task_run\n",
       "    result = await run_sync(task.fn, *args, **kwargs)\n",
       "  File \"/home/linux_dev_env/py_env/lib/python3.10/site-packages/prefect/utilities/asyncutils.py\", line 154, in run_sync_in_interruptible_worker_thread\n",
       "    async with anyio.create_task_group() as tg:\n",
       "  File \"/home/linux_dev_env/py_env/lib/python3.10/site-packages/anyio/_backends/_asyncio.py\", line 662, in __aexit__\n",
       "    raise exceptions[0]\n",
       "  File \"/home/linux_dev_env/py_env/lib/python3.10/site-packages/anyio/to_thread.py\", line 31, in run_sync\n",
       "    return await get_asynclib().run_sync_in_worker_thread(\n",
       "  File \"/home/linux_dev_env/py_env/lib/python3.10/site-packages/anyio/_backends/_asyncio.py\", line 937, in run_sync_in_worker_thread\n",
       "    return await future\n",
       "  File \"/home/linux_dev_env/py_env/lib/python3.10/site-packages/anyio/_backends/_asyncio.py\", line 867, in run\n",
       "    result = context.run(func, *args)\n",
       "  File \"/home/linux_dev_env/py_env/lib/python3.10/site-packages/prefect/utilities/asyncutils.py\", line 135, in capture_worker_thread_and_result\n",
       "    result = __fn(*args, **kwargs)\n",
       "  File \"/tmp/ipykernel_1015847/2430716275.py\", line 3, in transform_data\n",
       "    df[\"date_added\"] = f\"01.{month:02}.{year}\"\n",
       "  File \"/home/linux_dev_env/py_env/lib/python3.10/site-packages/pandas/core/indexes/base.py\", line 5302, in __setitem__\n",
       "    raise TypeError(\"Index does not support mutable operations\")\n",
       "TypeError: Index does not support mutable operations\n"
      ]
     },
     "metadata": {},
     "output_type": "display_data"
    },
    {
     "data": {
      "text/html": [
       "<pre style=\"white-space:pre;overflow-x:auto;line-height:normal;font-family:Menlo,'DejaVu Sans Mono',consolas,'Courier New',monospace\">12:54:37.666 | <span style=\"color: #d70000; text-decoration-color: #d70000\">ERROR</span>   | Task run 'transform_data-0' - Finished in state <span style=\"color: #d70000; text-decoration-color: #d70000\">Failed</span>('Task run encountered an exception: TypeError: Index does not support mutable operations\\n')\n",
       "</pre>\n"
      ],
      "text/plain": [
       "12:54:37.666 | \u001b[38;5;160mERROR\u001b[0m   | Task run 'transform_data-0' - Finished in state \u001b[38;5;160mFailed\u001b[0m('Task run encountered an exception: TypeError: Index does not support mutable operations\\n')\n"
      ]
     },
     "metadata": {},
     "output_type": "display_data"
    },
    {
     "data": {
      "text/html": [
       "<pre style=\"white-space:pre;overflow-x:auto;line-height:normal;font-family:Menlo,'DejaVu Sans Mono',consolas,'Courier New',monospace\">12:54:37.669 | <span style=\"color: #d70000; text-decoration-color: #d70000\">ERROR</span>   | Flow run<span style=\"color: #800080; text-decoration-color: #800080\"> 'eggplant-woodpecker'</span> - Encountered exception during execution:\n",
       "Traceback (most recent call last):\n",
       "  File \"/home/linux_dev_env/py_env/lib/python3.10/site-packages/prefect/engine.py\", line 642, in orchestrate_flow_run\n",
       "    result = await run_sync(flow_call)\n",
       "  File \"/home/linux_dev_env/py_env/lib/python3.10/site-packages/prefect/utilities/asyncutils.py\", line 154, in run_sync_in_interruptible_worker_thread\n",
       "    async with anyio.create_task_group() as tg:\n",
       "  File \"/home/linux_dev_env/py_env/lib/python3.10/site-packages/anyio/_backends/_asyncio.py\", line 662, in __aexit__\n",
       "    raise exceptions[0]\n",
       "  File \"/home/linux_dev_env/py_env/lib/python3.10/site-packages/anyio/to_thread.py\", line 31, in run_sync\n",
       "    return await get_asynclib().run_sync_in_worker_thread(\n",
       "  File \"/home/linux_dev_env/py_env/lib/python3.10/site-packages/anyio/_backends/_asyncio.py\", line 937, in run_sync_in_worker_thread\n",
       "    return await future\n",
       "  File \"/home/linux_dev_env/py_env/lib/python3.10/site-packages/anyio/_backends/_asyncio.py\", line 867, in run\n",
       "    result = context.run(func, *args)\n",
       "  File \"/home/linux_dev_env/py_env/lib/python3.10/site-packages/prefect/utilities/asyncutils.py\", line 135, in capture_worker_thread_and_result\n",
       "    result = __fn(*args, **kwargs)\n",
       "  File \"/tmp/ipykernel_1015847/506873230.py\", line 7, in etl_web_to_local_to_gcs\n",
       "    transformed_df = transform_data (cleaned_df, year, month)\n",
       "  File \"/home/linux_dev_env/py_env/lib/python3.10/site-packages/prefect/tasks.py\", line 448, in __call__\n",
       "    return enter_task_run_engine(\n",
       "  File \"/home/linux_dev_env/py_env/lib/python3.10/site-packages/prefect/engine.py\", line 932, in enter_task_run_engine\n",
       "    return run_async_from_worker_thread(begin_run)\n",
       "  File \"/home/linux_dev_env/py_env/lib/python3.10/site-packages/prefect/utilities/asyncutils.py\", line 177, in run_async_from_worker_thread\n",
       "    return anyio.from_thread.run(call)\n",
       "  File \"/home/linux_dev_env/py_env/lib/python3.10/site-packages/anyio/from_thread.py\", line 49, in run\n",
       "    return asynclib.run_async_from_thread(func, *args)\n",
       "  File \"/home/linux_dev_env/py_env/lib/python3.10/site-packages/anyio/_backends/_asyncio.py\", line 970, in run_async_from_thread\n",
       "    return f.result()\n",
       "  File \"/usr/lib/python3.10/concurrent/futures/_base.py\", line 458, in result\n",
       "    return self.__get_result()\n",
       "  File \"/usr/lib/python3.10/concurrent/futures/_base.py\", line 403, in __get_result\n",
       "    raise self._exception\n",
       "  File \"/home/linux_dev_env/py_env/lib/python3.10/site-packages/prefect/engine.py\", line 1081, in get_task_call_return_value\n",
       "    return await future._result()\n",
       "  File \"/home/linux_dev_env/py_env/lib/python3.10/site-packages/prefect/futures.py\", line 237, in _result\n",
       "    return await final_state.result(raise_on_failure=raise_on_failure, fetch=True)\n",
       "  File \"/home/linux_dev_env/py_env/lib/python3.10/site-packages/prefect/states.py\", line 89, in _get_state_result\n",
       "    raise await get_state_exception(state)\n",
       "  File \"/home/linux_dev_env/py_env/lib/python3.10/site-packages/prefect/engine.py\", line 1487, in orchestrate_task_run\n",
       "    result = await run_sync(task.fn, *args, **kwargs)\n",
       "  File \"/home/linux_dev_env/py_env/lib/python3.10/site-packages/prefect/utilities/asyncutils.py\", line 154, in run_sync_in_interruptible_worker_thread\n",
       "    async with anyio.create_task_group() as tg:\n",
       "  File \"/home/linux_dev_env/py_env/lib/python3.10/site-packages/anyio/_backends/_asyncio.py\", line 662, in __aexit__\n",
       "    raise exceptions[0]\n",
       "  File \"/home/linux_dev_env/py_env/lib/python3.10/site-packages/anyio/to_thread.py\", line 31, in run_sync\n",
       "    return await get_asynclib().run_sync_in_worker_thread(\n",
       "  File \"/home/linux_dev_env/py_env/lib/python3.10/site-packages/anyio/_backends/_asyncio.py\", line 937, in run_sync_in_worker_thread\n",
       "    return await future\n",
       "  File \"/home/linux_dev_env/py_env/lib/python3.10/site-packages/anyio/_backends/_asyncio.py\", line 867, in run\n",
       "    result = context.run(func, *args)\n",
       "  File \"/home/linux_dev_env/py_env/lib/python3.10/site-packages/prefect/utilities/asyncutils.py\", line 135, in capture_worker_thread_and_result\n",
       "    result = __fn(*args, **kwargs)\n",
       "  File \"/tmp/ipykernel_1015847/2430716275.py\", line 3, in transform_data\n",
       "    df[\"date_added\"] = f\"01.{month:02}.{year}\"\n",
       "  File \"/home/linux_dev_env/py_env/lib/python3.10/site-packages/pandas/core/indexes/base.py\", line 5302, in __setitem__\n",
       "    raise TypeError(\"Index does not support mutable operations\")\n",
       "TypeError: Index does not support mutable operations\n",
       "</pre>\n"
      ],
      "text/plain": [
       "12:54:37.669 | \u001b[38;5;160mERROR\u001b[0m   | Flow run\u001b[35m 'eggplant-woodpecker'\u001b[0m - Encountered exception during execution:\n",
       "Traceback (most recent call last):\n",
       "  File \"/home/linux_dev_env/py_env/lib/python3.10/site-packages/prefect/engine.py\", line 642, in orchestrate_flow_run\n",
       "    result = await run_sync(flow_call)\n",
       "  File \"/home/linux_dev_env/py_env/lib/python3.10/site-packages/prefect/utilities/asyncutils.py\", line 154, in run_sync_in_interruptible_worker_thread\n",
       "    async with anyio.create_task_group() as tg:\n",
       "  File \"/home/linux_dev_env/py_env/lib/python3.10/site-packages/anyio/_backends/_asyncio.py\", line 662, in __aexit__\n",
       "    raise exceptions[0]\n",
       "  File \"/home/linux_dev_env/py_env/lib/python3.10/site-packages/anyio/to_thread.py\", line 31, in run_sync\n",
       "    return await get_asynclib().run_sync_in_worker_thread(\n",
       "  File \"/home/linux_dev_env/py_env/lib/python3.10/site-packages/anyio/_backends/_asyncio.py\", line 937, in run_sync_in_worker_thread\n",
       "    return await future\n",
       "  File \"/home/linux_dev_env/py_env/lib/python3.10/site-packages/anyio/_backends/_asyncio.py\", line 867, in run\n",
       "    result = context.run(func, *args)\n",
       "  File \"/home/linux_dev_env/py_env/lib/python3.10/site-packages/prefect/utilities/asyncutils.py\", line 135, in capture_worker_thread_and_result\n",
       "    result = __fn(*args, **kwargs)\n",
       "  File \"/tmp/ipykernel_1015847/506873230.py\", line 7, in etl_web_to_local_to_gcs\n",
       "    transformed_df = transform_data (cleaned_df, year, month)\n",
       "  File \"/home/linux_dev_env/py_env/lib/python3.10/site-packages/prefect/tasks.py\", line 448, in __call__\n",
       "    return enter_task_run_engine(\n",
       "  File \"/home/linux_dev_env/py_env/lib/python3.10/site-packages/prefect/engine.py\", line 932, in enter_task_run_engine\n",
       "    return run_async_from_worker_thread(begin_run)\n",
       "  File \"/home/linux_dev_env/py_env/lib/python3.10/site-packages/prefect/utilities/asyncutils.py\", line 177, in run_async_from_worker_thread\n",
       "    return anyio.from_thread.run(call)\n",
       "  File \"/home/linux_dev_env/py_env/lib/python3.10/site-packages/anyio/from_thread.py\", line 49, in run\n",
       "    return asynclib.run_async_from_thread(func, *args)\n",
       "  File \"/home/linux_dev_env/py_env/lib/python3.10/site-packages/anyio/_backends/_asyncio.py\", line 970, in run_async_from_thread\n",
       "    return f.result()\n",
       "  File \"/usr/lib/python3.10/concurrent/futures/_base.py\", line 458, in result\n",
       "    return self.__get_result()\n",
       "  File \"/usr/lib/python3.10/concurrent/futures/_base.py\", line 403, in __get_result\n",
       "    raise self._exception\n",
       "  File \"/home/linux_dev_env/py_env/lib/python3.10/site-packages/prefect/engine.py\", line 1081, in get_task_call_return_value\n",
       "    return await future._result()\n",
       "  File \"/home/linux_dev_env/py_env/lib/python3.10/site-packages/prefect/futures.py\", line 237, in _result\n",
       "    return await final_state.result(raise_on_failure=raise_on_failure, fetch=True)\n",
       "  File \"/home/linux_dev_env/py_env/lib/python3.10/site-packages/prefect/states.py\", line 89, in _get_state_result\n",
       "    raise await get_state_exception(state)\n",
       "  File \"/home/linux_dev_env/py_env/lib/python3.10/site-packages/prefect/engine.py\", line 1487, in orchestrate_task_run\n",
       "    result = await run_sync(task.fn, *args, **kwargs)\n",
       "  File \"/home/linux_dev_env/py_env/lib/python3.10/site-packages/prefect/utilities/asyncutils.py\", line 154, in run_sync_in_interruptible_worker_thread\n",
       "    async with anyio.create_task_group() as tg:\n",
       "  File \"/home/linux_dev_env/py_env/lib/python3.10/site-packages/anyio/_backends/_asyncio.py\", line 662, in __aexit__\n",
       "    raise exceptions[0]\n",
       "  File \"/home/linux_dev_env/py_env/lib/python3.10/site-packages/anyio/to_thread.py\", line 31, in run_sync\n",
       "    return await get_asynclib().run_sync_in_worker_thread(\n",
       "  File \"/home/linux_dev_env/py_env/lib/python3.10/site-packages/anyio/_backends/_asyncio.py\", line 937, in run_sync_in_worker_thread\n",
       "    return await future\n",
       "  File \"/home/linux_dev_env/py_env/lib/python3.10/site-packages/anyio/_backends/_asyncio.py\", line 867, in run\n",
       "    result = context.run(func, *args)\n",
       "  File \"/home/linux_dev_env/py_env/lib/python3.10/site-packages/prefect/utilities/asyncutils.py\", line 135, in capture_worker_thread_and_result\n",
       "    result = __fn(*args, **kwargs)\n",
       "  File \"/tmp/ipykernel_1015847/2430716275.py\", line 3, in transform_data\n",
       "    df[\"date_added\"] = f\"01.{month:02}.{year}\"\n",
       "  File \"/home/linux_dev_env/py_env/lib/python3.10/site-packages/pandas/core/indexes/base.py\", line 5302, in __setitem__\n",
       "    raise TypeError(\"Index does not support mutable operations\")\n",
       "TypeError: Index does not support mutable operations\n"
      ]
     },
     "metadata": {},
     "output_type": "display_data"
    },
    {
     "data": {
      "text/html": [
       "<pre style=\"white-space:pre;overflow-x:auto;line-height:normal;font-family:Menlo,'DejaVu Sans Mono',consolas,'Courier New',monospace\">12:54:37.732 | <span style=\"color: #d70000; text-decoration-color: #d70000\">ERROR</span>   | Flow run<span style=\"color: #800080; text-decoration-color: #800080\"> 'eggplant-woodpecker'</span> - Finished in state <span style=\"color: #d70000; text-decoration-color: #d70000\">Failed</span>('Flow run encountered an exception. TypeError: Index does not support mutable operations\\n')\n",
       "</pre>\n"
      ],
      "text/plain": [
       "12:54:37.732 | \u001b[38;5;160mERROR\u001b[0m   | Flow run\u001b[35m 'eggplant-woodpecker'\u001b[0m - Finished in state \u001b[38;5;160mFailed\u001b[0m('Flow run encountered an exception. TypeError: Index does not support mutable operations\\n')\n"
      ]
     },
     "metadata": {},
     "output_type": "display_data"
    },
    {
     "data": {
      "text/html": [
       "<pre style=\"white-space:pre;overflow-x:auto;line-height:normal;font-family:Menlo,'DejaVu Sans Mono',consolas,'Courier New',monospace\">12:54:37.736 | <span style=\"color: #d70000; text-decoration-color: #d70000\">ERROR</span>   | Flow run<span style=\"color: #800080; text-decoration-color: #800080\"> 'happy-dingo'</span> - Encountered exception during execution:\n",
       "Traceback (most recent call last):\n",
       "  File \"/home/linux_dev_env/py_env/lib/python3.10/site-packages/prefect/engine.py\", line 642, in orchestrate_flow_run\n",
       "    result = await run_sync(flow_call)\n",
       "  File \"/home/linux_dev_env/py_env/lib/python3.10/site-packages/prefect/utilities/asyncutils.py\", line 154, in run_sync_in_interruptible_worker_thread\n",
       "    async with anyio.create_task_group() as tg:\n",
       "  File \"/home/linux_dev_env/py_env/lib/python3.10/site-packages/anyio/_backends/_asyncio.py\", line 662, in __aexit__\n",
       "    raise exceptions[0]\n",
       "  File \"/home/linux_dev_env/py_env/lib/python3.10/site-packages/anyio/to_thread.py\", line 31, in run_sync\n",
       "    return await get_asynclib().run_sync_in_worker_thread(\n",
       "  File \"/home/linux_dev_env/py_env/lib/python3.10/site-packages/anyio/_backends/_asyncio.py\", line 937, in run_sync_in_worker_thread\n",
       "    return await future\n",
       "  File \"/home/linux_dev_env/py_env/lib/python3.10/site-packages/anyio/_backends/_asyncio.py\", line 867, in run\n",
       "    result = context.run(func, *args)\n",
       "  File \"/home/linux_dev_env/py_env/lib/python3.10/site-packages/prefect/utilities/asyncutils.py\", line 135, in capture_worker_thread_and_result\n",
       "    result = __fn(*args, **kwargs)\n",
       "  File \"/tmp/ipykernel_1015847/1325823985.py\", line 5, in etl_parent_flow\n",
       "    etl_web_to_local_to_gcs(year, month)\n",
       "  File \"/home/linux_dev_env/py_env/lib/python3.10/site-packages/prefect/flows.py\", line 448, in __call__\n",
       "    return enter_flow_run_engine_from_flow_call(\n",
       "  File \"/home/linux_dev_env/py_env/lib/python3.10/site-packages/prefect/engine.py\", line 174, in enter_flow_run_engine_from_flow_call\n",
       "    return run_async_from_worker_thread(begin_run)\n",
       "  File \"/home/linux_dev_env/py_env/lib/python3.10/site-packages/prefect/utilities/asyncutils.py\", line 177, in run_async_from_worker_thread\n",
       "    return anyio.from_thread.run(call)\n",
       "  File \"/home/linux_dev_env/py_env/lib/python3.10/site-packages/anyio/from_thread.py\", line 49, in run\n",
       "    return asynclib.run_async_from_thread(func, *args)\n",
       "  File \"/home/linux_dev_env/py_env/lib/python3.10/site-packages/anyio/_backends/_asyncio.py\", line 970, in run_async_from_thread\n",
       "    return f.result()\n",
       "  File \"/usr/lib/python3.10/concurrent/futures/_base.py\", line 458, in result\n",
       "    return self.__get_result()\n",
       "  File \"/usr/lib/python3.10/concurrent/futures/_base.py\", line 403, in __get_result\n",
       "    raise self._exception\n",
       "  File \"/home/linux_dev_env/py_env/lib/python3.10/site-packages/prefect/client/utilities.py\", line 47, in with_injected_client\n",
       "    return await fn(*args, **kwargs)\n",
       "  File \"/home/linux_dev_env/py_env/lib/python3.10/site-packages/prefect/engine.py\", line 552, in create_and_begin_subflow_run\n",
       "    return await terminal_state.result(fetch=True)\n",
       "  File \"/home/linux_dev_env/py_env/lib/python3.10/site-packages/prefect/states.py\", line 89, in _get_state_result\n",
       "    raise await get_state_exception(state)\n",
       "  File \"/home/linux_dev_env/py_env/lib/python3.10/site-packages/prefect/engine.py\", line 642, in orchestrate_flow_run\n",
       "    result = await run_sync(flow_call)\n",
       "  File \"/home/linux_dev_env/py_env/lib/python3.10/site-packages/prefect/utilities/asyncutils.py\", line 154, in run_sync_in_interruptible_worker_thread\n",
       "    async with anyio.create_task_group() as tg:\n",
       "  File \"/home/linux_dev_env/py_env/lib/python3.10/site-packages/anyio/_backends/_asyncio.py\", line 662, in __aexit__\n",
       "    raise exceptions[0]\n",
       "  File \"/home/linux_dev_env/py_env/lib/python3.10/site-packages/anyio/to_thread.py\", line 31, in run_sync\n",
       "    return await get_asynclib().run_sync_in_worker_thread(\n",
       "  File \"/home/linux_dev_env/py_env/lib/python3.10/site-packages/anyio/_backends/_asyncio.py\", line 937, in run_sync_in_worker_thread\n",
       "    return await future\n",
       "  File \"/home/linux_dev_env/py_env/lib/python3.10/site-packages/anyio/_backends/_asyncio.py\", line 867, in run\n",
       "    result = context.run(func, *args)\n",
       "  File \"/home/linux_dev_env/py_env/lib/python3.10/site-packages/prefect/utilities/asyncutils.py\", line 135, in capture_worker_thread_and_result\n",
       "    result = __fn(*args, **kwargs)\n",
       "  File \"/tmp/ipykernel_1015847/506873230.py\", line 7, in etl_web_to_local_to_gcs\n",
       "    transformed_df = transform_data (cleaned_df, year, month)\n",
       "  File \"/home/linux_dev_env/py_env/lib/python3.10/site-packages/prefect/tasks.py\", line 448, in __call__\n",
       "    return enter_task_run_engine(\n",
       "  File \"/home/linux_dev_env/py_env/lib/python3.10/site-packages/prefect/engine.py\", line 932, in enter_task_run_engine\n",
       "    return run_async_from_worker_thread(begin_run)\n",
       "  File \"/home/linux_dev_env/py_env/lib/python3.10/site-packages/prefect/utilities/asyncutils.py\", line 177, in run_async_from_worker_thread\n",
       "    return anyio.from_thread.run(call)\n",
       "  File \"/home/linux_dev_env/py_env/lib/python3.10/site-packages/anyio/from_thread.py\", line 49, in run\n",
       "    return asynclib.run_async_from_thread(func, *args)\n",
       "  File \"/home/linux_dev_env/py_env/lib/python3.10/site-packages/anyio/_backends/_asyncio.py\", line 970, in run_async_from_thread\n",
       "    return f.result()\n",
       "  File \"/usr/lib/python3.10/concurrent/futures/_base.py\", line 458, in result\n",
       "    return self.__get_result()\n",
       "  File \"/usr/lib/python3.10/concurrent/futures/_base.py\", line 403, in __get_result\n",
       "    raise self._exception\n",
       "  File \"/home/linux_dev_env/py_env/lib/python3.10/site-packages/prefect/engine.py\", line 1081, in get_task_call_return_value\n",
       "    return await future._result()\n",
       "  File \"/home/linux_dev_env/py_env/lib/python3.10/site-packages/prefect/futures.py\", line 237, in _result\n",
       "    return await final_state.result(raise_on_failure=raise_on_failure, fetch=True)\n",
       "  File \"/home/linux_dev_env/py_env/lib/python3.10/site-packages/prefect/states.py\", line 89, in _get_state_result\n",
       "    raise await get_state_exception(state)\n",
       "  File \"/home/linux_dev_env/py_env/lib/python3.10/site-packages/prefect/engine.py\", line 1487, in orchestrate_task_run\n",
       "    result = await run_sync(task.fn, *args, **kwargs)\n",
       "  File \"/home/linux_dev_env/py_env/lib/python3.10/site-packages/prefect/utilities/asyncutils.py\", line 154, in run_sync_in_interruptible_worker_thread\n",
       "    async with anyio.create_task_group() as tg:\n",
       "  File \"/home/linux_dev_env/py_env/lib/python3.10/site-packages/anyio/_backends/_asyncio.py\", line 662, in __aexit__\n",
       "    raise exceptions[0]\n",
       "  File \"/home/linux_dev_env/py_env/lib/python3.10/site-packages/anyio/to_thread.py\", line 31, in run_sync\n",
       "    return await get_asynclib().run_sync_in_worker_thread(\n",
       "  File \"/home/linux_dev_env/py_env/lib/python3.10/site-packages/anyio/_backends/_asyncio.py\", line 937, in run_sync_in_worker_thread\n",
       "    return await future\n",
       "  File \"/home/linux_dev_env/py_env/lib/python3.10/site-packages/anyio/_backends/_asyncio.py\", line 867, in run\n",
       "    result = context.run(func, *args)\n",
       "  File \"/home/linux_dev_env/py_env/lib/python3.10/site-packages/prefect/utilities/asyncutils.py\", line 135, in capture_worker_thread_and_result\n",
       "    result = __fn(*args, **kwargs)\n",
       "  File \"/tmp/ipykernel_1015847/2430716275.py\", line 3, in transform_data\n",
       "    df[\"date_added\"] = f\"01.{month:02}.{year}\"\n",
       "  File \"/home/linux_dev_env/py_env/lib/python3.10/site-packages/pandas/core/indexes/base.py\", line 5302, in __setitem__\n",
       "    raise TypeError(\"Index does not support mutable operations\")\n",
       "TypeError: Index does not support mutable operations\n",
       "</pre>\n"
      ],
      "text/plain": [
       "12:54:37.736 | \u001b[38;5;160mERROR\u001b[0m   | Flow run\u001b[35m 'happy-dingo'\u001b[0m - Encountered exception during execution:\n",
       "Traceback (most recent call last):\n",
       "  File \"/home/linux_dev_env/py_env/lib/python3.10/site-packages/prefect/engine.py\", line 642, in orchestrate_flow_run\n",
       "    result = await run_sync(flow_call)\n",
       "  File \"/home/linux_dev_env/py_env/lib/python3.10/site-packages/prefect/utilities/asyncutils.py\", line 154, in run_sync_in_interruptible_worker_thread\n",
       "    async with anyio.create_task_group() as tg:\n",
       "  File \"/home/linux_dev_env/py_env/lib/python3.10/site-packages/anyio/_backends/_asyncio.py\", line 662, in __aexit__\n",
       "    raise exceptions[0]\n",
       "  File \"/home/linux_dev_env/py_env/lib/python3.10/site-packages/anyio/to_thread.py\", line 31, in run_sync\n",
       "    return await get_asynclib().run_sync_in_worker_thread(\n",
       "  File \"/home/linux_dev_env/py_env/lib/python3.10/site-packages/anyio/_backends/_asyncio.py\", line 937, in run_sync_in_worker_thread\n",
       "    return await future\n",
       "  File \"/home/linux_dev_env/py_env/lib/python3.10/site-packages/anyio/_backends/_asyncio.py\", line 867, in run\n",
       "    result = context.run(func, *args)\n",
       "  File \"/home/linux_dev_env/py_env/lib/python3.10/site-packages/prefect/utilities/asyncutils.py\", line 135, in capture_worker_thread_and_result\n",
       "    result = __fn(*args, **kwargs)\n",
       "  File \"/tmp/ipykernel_1015847/1325823985.py\", line 5, in etl_parent_flow\n",
       "    etl_web_to_local_to_gcs(year, month)\n",
       "  File \"/home/linux_dev_env/py_env/lib/python3.10/site-packages/prefect/flows.py\", line 448, in __call__\n",
       "    return enter_flow_run_engine_from_flow_call(\n",
       "  File \"/home/linux_dev_env/py_env/lib/python3.10/site-packages/prefect/engine.py\", line 174, in enter_flow_run_engine_from_flow_call\n",
       "    return run_async_from_worker_thread(begin_run)\n",
       "  File \"/home/linux_dev_env/py_env/lib/python3.10/site-packages/prefect/utilities/asyncutils.py\", line 177, in run_async_from_worker_thread\n",
       "    return anyio.from_thread.run(call)\n",
       "  File \"/home/linux_dev_env/py_env/lib/python3.10/site-packages/anyio/from_thread.py\", line 49, in run\n",
       "    return asynclib.run_async_from_thread(func, *args)\n",
       "  File \"/home/linux_dev_env/py_env/lib/python3.10/site-packages/anyio/_backends/_asyncio.py\", line 970, in run_async_from_thread\n",
       "    return f.result()\n",
       "  File \"/usr/lib/python3.10/concurrent/futures/_base.py\", line 458, in result\n",
       "    return self.__get_result()\n",
       "  File \"/usr/lib/python3.10/concurrent/futures/_base.py\", line 403, in __get_result\n",
       "    raise self._exception\n",
       "  File \"/home/linux_dev_env/py_env/lib/python3.10/site-packages/prefect/client/utilities.py\", line 47, in with_injected_client\n",
       "    return await fn(*args, **kwargs)\n",
       "  File \"/home/linux_dev_env/py_env/lib/python3.10/site-packages/prefect/engine.py\", line 552, in create_and_begin_subflow_run\n",
       "    return await terminal_state.result(fetch=True)\n",
       "  File \"/home/linux_dev_env/py_env/lib/python3.10/site-packages/prefect/states.py\", line 89, in _get_state_result\n",
       "    raise await get_state_exception(state)\n",
       "  File \"/home/linux_dev_env/py_env/lib/python3.10/site-packages/prefect/engine.py\", line 642, in orchestrate_flow_run\n",
       "    result = await run_sync(flow_call)\n",
       "  File \"/home/linux_dev_env/py_env/lib/python3.10/site-packages/prefect/utilities/asyncutils.py\", line 154, in run_sync_in_interruptible_worker_thread\n",
       "    async with anyio.create_task_group() as tg:\n",
       "  File \"/home/linux_dev_env/py_env/lib/python3.10/site-packages/anyio/_backends/_asyncio.py\", line 662, in __aexit__\n",
       "    raise exceptions[0]\n",
       "  File \"/home/linux_dev_env/py_env/lib/python3.10/site-packages/anyio/to_thread.py\", line 31, in run_sync\n",
       "    return await get_asynclib().run_sync_in_worker_thread(\n",
       "  File \"/home/linux_dev_env/py_env/lib/python3.10/site-packages/anyio/_backends/_asyncio.py\", line 937, in run_sync_in_worker_thread\n",
       "    return await future\n",
       "  File \"/home/linux_dev_env/py_env/lib/python3.10/site-packages/anyio/_backends/_asyncio.py\", line 867, in run\n",
       "    result = context.run(func, *args)\n",
       "  File \"/home/linux_dev_env/py_env/lib/python3.10/site-packages/prefect/utilities/asyncutils.py\", line 135, in capture_worker_thread_and_result\n",
       "    result = __fn(*args, **kwargs)\n",
       "  File \"/tmp/ipykernel_1015847/506873230.py\", line 7, in etl_web_to_local_to_gcs\n",
       "    transformed_df = transform_data (cleaned_df, year, month)\n",
       "  File \"/home/linux_dev_env/py_env/lib/python3.10/site-packages/prefect/tasks.py\", line 448, in __call__\n",
       "    return enter_task_run_engine(\n",
       "  File \"/home/linux_dev_env/py_env/lib/python3.10/site-packages/prefect/engine.py\", line 932, in enter_task_run_engine\n",
       "    return run_async_from_worker_thread(begin_run)\n",
       "  File \"/home/linux_dev_env/py_env/lib/python3.10/site-packages/prefect/utilities/asyncutils.py\", line 177, in run_async_from_worker_thread\n",
       "    return anyio.from_thread.run(call)\n",
       "  File \"/home/linux_dev_env/py_env/lib/python3.10/site-packages/anyio/from_thread.py\", line 49, in run\n",
       "    return asynclib.run_async_from_thread(func, *args)\n",
       "  File \"/home/linux_dev_env/py_env/lib/python3.10/site-packages/anyio/_backends/_asyncio.py\", line 970, in run_async_from_thread\n",
       "    return f.result()\n",
       "  File \"/usr/lib/python3.10/concurrent/futures/_base.py\", line 458, in result\n",
       "    return self.__get_result()\n",
       "  File \"/usr/lib/python3.10/concurrent/futures/_base.py\", line 403, in __get_result\n",
       "    raise self._exception\n",
       "  File \"/home/linux_dev_env/py_env/lib/python3.10/site-packages/prefect/engine.py\", line 1081, in get_task_call_return_value\n",
       "    return await future._result()\n",
       "  File \"/home/linux_dev_env/py_env/lib/python3.10/site-packages/prefect/futures.py\", line 237, in _result\n",
       "    return await final_state.result(raise_on_failure=raise_on_failure, fetch=True)\n",
       "  File \"/home/linux_dev_env/py_env/lib/python3.10/site-packages/prefect/states.py\", line 89, in _get_state_result\n",
       "    raise await get_state_exception(state)\n",
       "  File \"/home/linux_dev_env/py_env/lib/python3.10/site-packages/prefect/engine.py\", line 1487, in orchestrate_task_run\n",
       "    result = await run_sync(task.fn, *args, **kwargs)\n",
       "  File \"/home/linux_dev_env/py_env/lib/python3.10/site-packages/prefect/utilities/asyncutils.py\", line 154, in run_sync_in_interruptible_worker_thread\n",
       "    async with anyio.create_task_group() as tg:\n",
       "  File \"/home/linux_dev_env/py_env/lib/python3.10/site-packages/anyio/_backends/_asyncio.py\", line 662, in __aexit__\n",
       "    raise exceptions[0]\n",
       "  File \"/home/linux_dev_env/py_env/lib/python3.10/site-packages/anyio/to_thread.py\", line 31, in run_sync\n",
       "    return await get_asynclib().run_sync_in_worker_thread(\n",
       "  File \"/home/linux_dev_env/py_env/lib/python3.10/site-packages/anyio/_backends/_asyncio.py\", line 937, in run_sync_in_worker_thread\n",
       "    return await future\n",
       "  File \"/home/linux_dev_env/py_env/lib/python3.10/site-packages/anyio/_backends/_asyncio.py\", line 867, in run\n",
       "    result = context.run(func, *args)\n",
       "  File \"/home/linux_dev_env/py_env/lib/python3.10/site-packages/prefect/utilities/asyncutils.py\", line 135, in capture_worker_thread_and_result\n",
       "    result = __fn(*args, **kwargs)\n",
       "  File \"/tmp/ipykernel_1015847/2430716275.py\", line 3, in transform_data\n",
       "    df[\"date_added\"] = f\"01.{month:02}.{year}\"\n",
       "  File \"/home/linux_dev_env/py_env/lib/python3.10/site-packages/pandas/core/indexes/base.py\", line 5302, in __setitem__\n",
       "    raise TypeError(\"Index does not support mutable operations\")\n",
       "TypeError: Index does not support mutable operations\n"
      ]
     },
     "metadata": {},
     "output_type": "display_data"
    },
    {
     "data": {
      "text/html": [
       "<pre style=\"white-space:pre;overflow-x:auto;line-height:normal;font-family:Menlo,'DejaVu Sans Mono',consolas,'Courier New',monospace\">12:54:37.787 | <span style=\"color: #d70000; text-decoration-color: #d70000\">ERROR</span>   | Flow run<span style=\"color: #800080; text-decoration-color: #800080\"> 'happy-dingo'</span> - Finished in state <span style=\"color: #d70000; text-decoration-color: #d70000\">Failed</span>('Flow run encountered an exception. TypeError: Index does not support mutable operations\\n')\n",
       "</pre>\n"
      ],
      "text/plain": [
       "12:54:37.787 | \u001b[38;5;160mERROR\u001b[0m   | Flow run\u001b[35m 'happy-dingo'\u001b[0m - Finished in state \u001b[38;5;160mFailed\u001b[0m('Flow run encountered an exception. TypeError: Index does not support mutable operations\\n')\n"
      ]
     },
     "metadata": {},
     "output_type": "display_data"
    },
    {
     "ename": "TypeError",
     "evalue": "Index does not support mutable operations",
     "output_type": "error",
     "traceback": [
      "\u001b[0;31m---------------------------------------------------------------------------\u001b[0m",
      "\u001b[0;31mTypeError\u001b[0m                                 Traceback (most recent call last)",
      "Cell \u001b[0;32mIn[25], line 4\u001b[0m\n\u001b[1;32m      2\u001b[0m years\u001b[39m=\u001b[39m[\u001b[39m2022\u001b[39m]\n\u001b[1;32m      3\u001b[0m months\u001b[39m=\u001b[39m[\u001b[39m2\u001b[39m,\u001b[39m3\u001b[39m]\n\u001b[0;32m----> 4\u001b[0m etl_parent_flow(years, months) \n",
      "File \u001b[0;32m~/py_env/lib/python3.10/site-packages/prefect/flows.py:448\u001b[0m, in \u001b[0;36mFlow.__call__\u001b[0;34m(self, return_state, wait_for, *args, **kwargs)\u001b[0m\n\u001b[1;32m    444\u001b[0m parameters \u001b[39m=\u001b[39m get_call_parameters(\u001b[39mself\u001b[39m\u001b[39m.\u001b[39mfn, args, kwargs)\n\u001b[1;32m    446\u001b[0m return_type \u001b[39m=\u001b[39m \u001b[39m\"\u001b[39m\u001b[39mstate\u001b[39m\u001b[39m\"\u001b[39m \u001b[39mif\u001b[39;00m return_state \u001b[39melse\u001b[39;00m \u001b[39m\"\u001b[39m\u001b[39mresult\u001b[39m\u001b[39m\"\u001b[39m\n\u001b[0;32m--> 448\u001b[0m \u001b[39mreturn\u001b[39;00m enter_flow_run_engine_from_flow_call(\n\u001b[1;32m    449\u001b[0m     \u001b[39mself\u001b[39;49m,\n\u001b[1;32m    450\u001b[0m     parameters,\n\u001b[1;32m    451\u001b[0m     wait_for\u001b[39m=\u001b[39;49mwait_for,\n\u001b[1;32m    452\u001b[0m     return_type\u001b[39m=\u001b[39;49mreturn_type,\n\u001b[1;32m    453\u001b[0m )\n",
      "File \u001b[0;32m~/py_env/lib/python3.10/site-packages/prefect/engine.py:167\u001b[0m, in \u001b[0;36menter_flow_run_engine_from_flow_call\u001b[0;34m(flow, parameters, wait_for, return_type)\u001b[0m\n\u001b[1;32m    163\u001b[0m \u001b[39melif\u001b[39;00m in_async_main_thread():\n\u001b[1;32m    164\u001b[0m     \u001b[39m# An event loop is already running and we must create a blocking portal to\u001b[39;00m\n\u001b[1;32m    165\u001b[0m     \u001b[39m# run async code from this synchronous context\u001b[39;00m\n\u001b[1;32m    166\u001b[0m     \u001b[39mwith\u001b[39;00m start_blocking_portal() \u001b[39mas\u001b[39;00m portal:\n\u001b[0;32m--> 167\u001b[0m         \u001b[39mreturn\u001b[39;00m portal\u001b[39m.\u001b[39;49mcall(begin_run)\n\u001b[1;32m    168\u001b[0m \u001b[39melse\u001b[39;00m:\n\u001b[1;32m    169\u001b[0m     \u001b[39m# An event loop is not running so we will create one\u001b[39;00m\n\u001b[1;32m    170\u001b[0m     \u001b[39mreturn\u001b[39;00m anyio\u001b[39m.\u001b[39mrun(begin_run)\n",
      "File \u001b[0;32m~/py_env/lib/python3.10/site-packages/anyio/from_thread.py:283\u001b[0m, in \u001b[0;36mBlockingPortal.call\u001b[0;34m(self, func, *args)\u001b[0m\n\u001b[1;32m    268\u001b[0m \u001b[39mdef\u001b[39;00m \u001b[39mcall\u001b[39m(\n\u001b[1;32m    269\u001b[0m     \u001b[39mself\u001b[39m,\n\u001b[1;32m    270\u001b[0m     func: Callable[\u001b[39m.\u001b[39m\u001b[39m.\u001b[39m\u001b[39m.\u001b[39m, Union[Coroutine[Any, Any, T_Retval], T_Retval]],\n\u001b[1;32m    271\u001b[0m     \u001b[39m*\u001b[39margs: \u001b[39mobject\u001b[39m\n\u001b[1;32m    272\u001b[0m ) \u001b[39m-\u001b[39m\u001b[39m>\u001b[39m T_Retval:\n\u001b[1;32m    273\u001b[0m \u001b[39m    \u001b[39m\u001b[39m\"\"\"\u001b[39;00m\n\u001b[1;32m    274\u001b[0m \u001b[39m    Call the given function in the event loop thread.\u001b[39;00m\n\u001b[1;32m    275\u001b[0m \n\u001b[0;32m   (...)\u001b[0m\n\u001b[1;32m    281\u001b[0m \n\u001b[1;32m    282\u001b[0m \u001b[39m    \"\"\"\u001b[39;00m\n\u001b[0;32m--> 283\u001b[0m     \u001b[39mreturn\u001b[39;00m cast(T_Retval, \u001b[39mself\u001b[39;49m\u001b[39m.\u001b[39;49mstart_task_soon(func, \u001b[39m*\u001b[39;49margs)\u001b[39m.\u001b[39;49mresult())\n",
      "File \u001b[0;32m/usr/lib/python3.10/concurrent/futures/_base.py:458\u001b[0m, in \u001b[0;36mFuture.result\u001b[0;34m(self, timeout)\u001b[0m\n\u001b[1;32m    456\u001b[0m     \u001b[39mraise\u001b[39;00m CancelledError()\n\u001b[1;32m    457\u001b[0m \u001b[39melif\u001b[39;00m \u001b[39mself\u001b[39m\u001b[39m.\u001b[39m_state \u001b[39m==\u001b[39m FINISHED:\n\u001b[0;32m--> 458\u001b[0m     \u001b[39mreturn\u001b[39;00m \u001b[39mself\u001b[39;49m\u001b[39m.\u001b[39;49m__get_result()\n\u001b[1;32m    459\u001b[0m \u001b[39melse\u001b[39;00m:\n\u001b[1;32m    460\u001b[0m     \u001b[39mraise\u001b[39;00m \u001b[39mTimeoutError\u001b[39;00m()\n",
      "File \u001b[0;32m/usr/lib/python3.10/concurrent/futures/_base.py:403\u001b[0m, in \u001b[0;36mFuture.__get_result\u001b[0;34m(self)\u001b[0m\n\u001b[1;32m    401\u001b[0m \u001b[39mif\u001b[39;00m \u001b[39mself\u001b[39m\u001b[39m.\u001b[39m_exception:\n\u001b[1;32m    402\u001b[0m     \u001b[39mtry\u001b[39;00m:\n\u001b[0;32m--> 403\u001b[0m         \u001b[39mraise\u001b[39;00m \u001b[39mself\u001b[39m\u001b[39m.\u001b[39m_exception\n\u001b[1;32m    404\u001b[0m     \u001b[39mfinally\u001b[39;00m:\n\u001b[1;32m    405\u001b[0m         \u001b[39m# Break a reference cycle with the exception in self._exception\u001b[39;00m\n\u001b[1;32m    406\u001b[0m         \u001b[39mself\u001b[39m \u001b[39m=\u001b[39m \u001b[39mNone\u001b[39;00m\n",
      "File \u001b[0;32m~/py_env/lib/python3.10/site-packages/anyio/from_thread.py:219\u001b[0m, in \u001b[0;36mBlockingPortal._call_func\u001b[0;34m(self, func, args, kwargs, future)\u001b[0m\n\u001b[1;32m    216\u001b[0m             \u001b[39melse\u001b[39;00m:\n\u001b[1;32m    217\u001b[0m                 future\u001b[39m.\u001b[39madd_done_callback(callback)\n\u001b[0;32m--> 219\u001b[0m             retval \u001b[39m=\u001b[39m \u001b[39mawait\u001b[39;00m retval\n\u001b[1;32m    220\u001b[0m \u001b[39mexcept\u001b[39;00m \u001b[39mself\u001b[39m\u001b[39m.\u001b[39m_cancelled_exc_class:\n\u001b[1;32m    221\u001b[0m     future\u001b[39m.\u001b[39mcancel()\n",
      "File \u001b[0;32m~/py_env/lib/python3.10/site-packages/prefect/client/utilities.py:47\u001b[0m, in \u001b[0;36minject_client.<locals>.with_injected_client\u001b[0;34m(*args, **kwargs)\u001b[0m\n\u001b[1;32m     45\u001b[0m \u001b[39masync\u001b[39;00m \u001b[39mwith\u001b[39;00m client_context \u001b[39mas\u001b[39;00m new_client:\n\u001b[1;32m     46\u001b[0m     kwargs\u001b[39m.\u001b[39msetdefault(\u001b[39m\"\u001b[39m\u001b[39mclient\u001b[39m\u001b[39m\"\u001b[39m, new_client \u001b[39mor\u001b[39;00m client)\n\u001b[0;32m---> 47\u001b[0m     \u001b[39mreturn\u001b[39;00m \u001b[39mawait\u001b[39;00m fn(\u001b[39m*\u001b[39margs, \u001b[39m*\u001b[39m\u001b[39m*\u001b[39mkwargs)\n",
      "File \u001b[0;32m~/py_env/lib/python3.10/site-packages/prefect/engine.py:250\u001b[0m, in \u001b[0;36mcreate_then_begin_flow_run\u001b[0;34m(flow, parameters, wait_for, return_type, client)\u001b[0m\n\u001b[1;32m    248\u001b[0m     \u001b[39mreturn\u001b[39;00m state\n\u001b[1;32m    249\u001b[0m \u001b[39melif\u001b[39;00m return_type \u001b[39m==\u001b[39m \u001b[39m\"\u001b[39m\u001b[39mresult\u001b[39m\u001b[39m\"\u001b[39m:\n\u001b[0;32m--> 250\u001b[0m     \u001b[39mreturn\u001b[39;00m \u001b[39mawait\u001b[39;00m state\u001b[39m.\u001b[39mresult(fetch\u001b[39m=\u001b[39m\u001b[39mTrue\u001b[39;00m)\n\u001b[1;32m    251\u001b[0m \u001b[39melse\u001b[39;00m:\n\u001b[1;32m    252\u001b[0m     \u001b[39mraise\u001b[39;00m \u001b[39mValueError\u001b[39;00m(\u001b[39mf\u001b[39m\u001b[39m\"\u001b[39m\u001b[39mInvalid return type for flow engine \u001b[39m\u001b[39m{\u001b[39;00mreturn_type\u001b[39m!r}\u001b[39;00m\u001b[39m.\u001b[39m\u001b[39m\"\u001b[39m)\n",
      "File \u001b[0;32m~/py_env/lib/python3.10/site-packages/prefect/states.py:89\u001b[0m, in \u001b[0;36m_get_state_result\u001b[0;34m(state, raise_on_failure)\u001b[0m\n\u001b[1;32m     84\u001b[0m     \u001b[39mraise\u001b[39;00m PausedRun(\u001b[39m\"\u001b[39m\u001b[39mRun paused.\u001b[39m\u001b[39m\"\u001b[39m)\n\u001b[1;32m     86\u001b[0m \u001b[39mif\u001b[39;00m raise_on_failure \u001b[39mand\u001b[39;00m (\n\u001b[1;32m     87\u001b[0m     state\u001b[39m.\u001b[39mis_crashed() \u001b[39mor\u001b[39;00m state\u001b[39m.\u001b[39mis_failed() \u001b[39mor\u001b[39;00m state\u001b[39m.\u001b[39mis_cancelled()\n\u001b[1;32m     88\u001b[0m ):\n\u001b[0;32m---> 89\u001b[0m     \u001b[39mraise\u001b[39;00m \u001b[39mawait\u001b[39;00m get_state_exception(state)\n\u001b[1;32m     91\u001b[0m \u001b[39mif\u001b[39;00m \u001b[39misinstance\u001b[39m(state\u001b[39m.\u001b[39mdata, DataDocument):\n\u001b[1;32m     92\u001b[0m     result \u001b[39m=\u001b[39m result_from_state_with_data_document(\n\u001b[1;32m     93\u001b[0m         state, raise_on_failure\u001b[39m=\u001b[39mraise_on_failure\n\u001b[1;32m     94\u001b[0m     )\n",
      "File \u001b[0;32m~/py_env/lib/python3.10/site-packages/prefect/engine.py:642\u001b[0m, in \u001b[0;36morchestrate_flow_run\u001b[0;34m(flow, flow_run, parameters, wait_for, interruptible, client, partial_flow_run_context)\u001b[0m\n\u001b[1;32m    636\u001b[0m             \u001b[39melse\u001b[39;00m:\n\u001b[1;32m    637\u001b[0m                 run_sync \u001b[39m=\u001b[39m (\n\u001b[1;32m    638\u001b[0m                     run_sync_in_interruptible_worker_thread\n\u001b[1;32m    639\u001b[0m                     \u001b[39mif\u001b[39;00m interruptible \u001b[39mor\u001b[39;00m timeout_scope\n\u001b[1;32m    640\u001b[0m                     \u001b[39melse\u001b[39;00m run_sync_in_worker_thread\n\u001b[1;32m    641\u001b[0m                 )\n\u001b[0;32m--> 642\u001b[0m                 result \u001b[39m=\u001b[39m \u001b[39mawait\u001b[39;00m run_sync(flow_call)\n\u001b[1;32m    644\u001b[0m         waited_for_task_runs \u001b[39m=\u001b[39m \u001b[39mawait\u001b[39;00m wait_for_task_runs_and_report_crashes(\n\u001b[1;32m    645\u001b[0m             flow_run_context\u001b[39m.\u001b[39mtask_run_futures, client\u001b[39m=\u001b[39mclient\n\u001b[1;32m    646\u001b[0m         )\n\u001b[1;32m    647\u001b[0m \u001b[39mexcept\u001b[39;00m PausedRun:\n",
      "File \u001b[0;32m~/py_env/lib/python3.10/site-packages/prefect/utilities/asyncutils.py:154\u001b[0m, in \u001b[0;36mrun_sync_in_interruptible_worker_thread\u001b[0;34m(__fn, *args, **kwargs)\u001b[0m\n\u001b[1;32m    151\u001b[0m         raise_async_exception_in_thread(thread, anyio\u001b[39m.\u001b[39mget_cancelled_exc_class())\n\u001b[1;32m    152\u001b[0m         \u001b[39mraise\u001b[39;00m\n\u001b[0;32m--> 154\u001b[0m \u001b[39masync\u001b[39;00m \u001b[39mwith\u001b[39;00m anyio\u001b[39m.\u001b[39mcreate_task_group() \u001b[39mas\u001b[39;00m tg:\n\u001b[1;32m    155\u001b[0m     tg\u001b[39m.\u001b[39mstart_soon(send_interrupt_to_thread)\n\u001b[1;32m    156\u001b[0m     tg\u001b[39m.\u001b[39mstart_soon(\n\u001b[1;32m    157\u001b[0m         partial(\n\u001b[1;32m    158\u001b[0m             anyio\u001b[39m.\u001b[39mto_thread\u001b[39m.\u001b[39mrun_sync,\n\u001b[0;32m   (...)\u001b[0m\n\u001b[1;32m    162\u001b[0m         )\n\u001b[1;32m    163\u001b[0m     )\n",
      "File \u001b[0;32m~/py_env/lib/python3.10/site-packages/anyio/_backends/_asyncio.py:662\u001b[0m, in \u001b[0;36mTaskGroup.__aexit__\u001b[0;34m(self, exc_type, exc_val, exc_tb)\u001b[0m\n\u001b[1;32m    660\u001b[0m             \u001b[39mraise\u001b[39;00m ExceptionGroup(exceptions)\n\u001b[1;32m    661\u001b[0m     \u001b[39melif\u001b[39;00m exceptions \u001b[39mand\u001b[39;00m exceptions[\u001b[39m0\u001b[39m] \u001b[39mis\u001b[39;00m \u001b[39mnot\u001b[39;00m exc_val:\n\u001b[0;32m--> 662\u001b[0m         \u001b[39mraise\u001b[39;00m exceptions[\u001b[39m0\u001b[39m]\n\u001b[1;32m    663\u001b[0m \u001b[39mexcept\u001b[39;00m \u001b[39mBaseException\u001b[39;00m \u001b[39mas\u001b[39;00m exc:\n\u001b[1;32m    664\u001b[0m     \u001b[39m# Clear the context here, as it can only be done in-flight.\u001b[39;00m\n\u001b[1;32m    665\u001b[0m     \u001b[39m# If the context is not cleared, it can result in recursive tracebacks (see #145).\u001b[39;00m\n\u001b[1;32m    666\u001b[0m     exc\u001b[39m.\u001b[39m__context__ \u001b[39m=\u001b[39m \u001b[39mNone\u001b[39;00m\n",
      "File \u001b[0;32m~/py_env/lib/python3.10/site-packages/anyio/to_thread.py:31\u001b[0m, in \u001b[0;36mrun_sync\u001b[0;34m(func, cancellable, limiter, *args)\u001b[0m\n\u001b[1;32m     10\u001b[0m \u001b[39masync\u001b[39;00m \u001b[39mdef\u001b[39;00m \u001b[39mrun_sync\u001b[39m(\n\u001b[1;32m     11\u001b[0m     func: Callable[\u001b[39m.\u001b[39m\u001b[39m.\u001b[39m\u001b[39m.\u001b[39m, T_Retval],\n\u001b[1;32m     12\u001b[0m     \u001b[39m*\u001b[39margs: \u001b[39mobject\u001b[39m,\n\u001b[1;32m     13\u001b[0m     cancellable: \u001b[39mbool\u001b[39m \u001b[39m=\u001b[39m \u001b[39mFalse\u001b[39;00m,\n\u001b[1;32m     14\u001b[0m     limiter: Optional[CapacityLimiter] \u001b[39m=\u001b[39m \u001b[39mNone\u001b[39;00m\n\u001b[1;32m     15\u001b[0m ) \u001b[39m-\u001b[39m\u001b[39m>\u001b[39m T_Retval:\n\u001b[1;32m     16\u001b[0m \u001b[39m    \u001b[39m\u001b[39m\"\"\"\u001b[39;00m\n\u001b[1;32m     17\u001b[0m \u001b[39m    Call the given function with the given arguments in a worker thread.\u001b[39;00m\n\u001b[1;32m     18\u001b[0m \n\u001b[0;32m   (...)\u001b[0m\n\u001b[1;32m     29\u001b[0m \n\u001b[1;32m     30\u001b[0m \u001b[39m    \"\"\"\u001b[39;00m\n\u001b[0;32m---> 31\u001b[0m     \u001b[39mreturn\u001b[39;00m \u001b[39mawait\u001b[39;00m get_asynclib()\u001b[39m.\u001b[39mrun_sync_in_worker_thread(\n\u001b[1;32m     32\u001b[0m         func, \u001b[39m*\u001b[39margs, cancellable\u001b[39m=\u001b[39mcancellable, limiter\u001b[39m=\u001b[39mlimiter\n\u001b[1;32m     33\u001b[0m     )\n",
      "File \u001b[0;32m~/py_env/lib/python3.10/site-packages/anyio/_backends/_asyncio.py:937\u001b[0m, in \u001b[0;36mrun_sync_in_worker_thread\u001b[0;34m(func, cancellable, limiter, *args)\u001b[0m\n\u001b[1;32m    935\u001b[0m context\u001b[39m.\u001b[39mrun(sniffio\u001b[39m.\u001b[39mcurrent_async_library_cvar\u001b[39m.\u001b[39mset, \u001b[39mNone\u001b[39;00m)\n\u001b[1;32m    936\u001b[0m worker\u001b[39m.\u001b[39mqueue\u001b[39m.\u001b[39mput_nowait((context, func, args, future))\n\u001b[0;32m--> 937\u001b[0m \u001b[39mreturn\u001b[39;00m \u001b[39mawait\u001b[39;00m future\n",
      "File \u001b[0;32m~/py_env/lib/python3.10/site-packages/anyio/_backends/_asyncio.py:867\u001b[0m, in \u001b[0;36mWorkerThread.run\u001b[0;34m(self)\u001b[0m\n\u001b[1;32m    865\u001b[0m exception: Optional[\u001b[39mBaseException\u001b[39;00m] \u001b[39m=\u001b[39m \u001b[39mNone\u001b[39;00m\n\u001b[1;32m    866\u001b[0m \u001b[39mtry\u001b[39;00m:\n\u001b[0;32m--> 867\u001b[0m     result \u001b[39m=\u001b[39m context\u001b[39m.\u001b[39;49mrun(func, \u001b[39m*\u001b[39;49margs)\n\u001b[1;32m    868\u001b[0m \u001b[39mexcept\u001b[39;00m \u001b[39mBaseException\u001b[39;00m \u001b[39mas\u001b[39;00m exc:\n\u001b[1;32m    869\u001b[0m     exception \u001b[39m=\u001b[39m exc\n",
      "File \u001b[0;32m~/py_env/lib/python3.10/site-packages/prefect/utilities/asyncutils.py:135\u001b[0m, in \u001b[0;36mrun_sync_in_interruptible_worker_thread.<locals>.capture_worker_thread_and_result\u001b[0;34m()\u001b[0m\n\u001b[1;32m    133\u001b[0m \u001b[39mtry\u001b[39;00m:\n\u001b[1;32m    134\u001b[0m     thread \u001b[39m=\u001b[39m threading\u001b[39m.\u001b[39mcurrent_thread()\n\u001b[0;32m--> 135\u001b[0m     result \u001b[39m=\u001b[39m __fn(\u001b[39m*\u001b[39;49margs, \u001b[39m*\u001b[39;49m\u001b[39m*\u001b[39;49mkwargs)\n\u001b[1;32m    136\u001b[0m \u001b[39mexcept\u001b[39;00m \u001b[39mBaseException\u001b[39;00m \u001b[39mas\u001b[39;00m exc:\n\u001b[1;32m    137\u001b[0m     result \u001b[39m=\u001b[39m exc\n",
      "Cell \u001b[0;32mIn[24], line 5\u001b[0m, in \u001b[0;36metl_parent_flow\u001b[0;34m(years, months)\u001b[0m\n\u001b[1;32m      3\u001b[0m \u001b[39mfor\u001b[39;00m year \u001b[39min\u001b[39;00m years:\n\u001b[1;32m      4\u001b[0m     \u001b[39mfor\u001b[39;00m month \u001b[39min\u001b[39;00m months:\n\u001b[0;32m----> 5\u001b[0m         etl_web_to_local_to_gcs(year, month)\n",
      "File \u001b[0;32m~/py_env/lib/python3.10/site-packages/prefect/flows.py:448\u001b[0m, in \u001b[0;36mFlow.__call__\u001b[0;34m(self, return_state, wait_for, *args, **kwargs)\u001b[0m\n\u001b[1;32m    444\u001b[0m parameters \u001b[39m=\u001b[39m get_call_parameters(\u001b[39mself\u001b[39m\u001b[39m.\u001b[39mfn, args, kwargs)\n\u001b[1;32m    446\u001b[0m return_type \u001b[39m=\u001b[39m \u001b[39m\"\u001b[39m\u001b[39mstate\u001b[39m\u001b[39m\"\u001b[39m \u001b[39mif\u001b[39;00m return_state \u001b[39melse\u001b[39;00m \u001b[39m\"\u001b[39m\u001b[39mresult\u001b[39m\u001b[39m\"\u001b[39m\n\u001b[0;32m--> 448\u001b[0m \u001b[39mreturn\u001b[39;00m enter_flow_run_engine_from_flow_call(\n\u001b[1;32m    449\u001b[0m     \u001b[39mself\u001b[39;49m,\n\u001b[1;32m    450\u001b[0m     parameters,\n\u001b[1;32m    451\u001b[0m     wait_for\u001b[39m=\u001b[39;49mwait_for,\n\u001b[1;32m    452\u001b[0m     return_type\u001b[39m=\u001b[39;49mreturn_type,\n\u001b[1;32m    453\u001b[0m )\n",
      "File \u001b[0;32m~/py_env/lib/python3.10/site-packages/prefect/engine.py:174\u001b[0m, in \u001b[0;36menter_flow_run_engine_from_flow_call\u001b[0;34m(flow, parameters, wait_for, return_type)\u001b[0m\n\u001b[1;32m    170\u001b[0m         \u001b[39mreturn\u001b[39;00m anyio\u001b[39m.\u001b[39mrun(begin_run)\n\u001b[1;32m    172\u001b[0m \u001b[39mif\u001b[39;00m \u001b[39mnot\u001b[39;00m parent_flow_run_context\u001b[39m.\u001b[39mflow\u001b[39m.\u001b[39misasync:\n\u001b[1;32m    173\u001b[0m     \u001b[39m# Async subflow run in sync flow run\u001b[39;00m\n\u001b[0;32m--> 174\u001b[0m     \u001b[39mreturn\u001b[39;00m run_async_from_worker_thread(begin_run)\n\u001b[1;32m    175\u001b[0m \u001b[39melif\u001b[39;00m parent_flow_run_context\u001b[39m.\u001b[39mflow\u001b[39m.\u001b[39misasync \u001b[39mand\u001b[39;00m flow\u001b[39m.\u001b[39misasync:\n\u001b[1;32m    176\u001b[0m     \u001b[39m# Async subflow run in async flow run\u001b[39;00m\n\u001b[1;32m    177\u001b[0m     \u001b[39mreturn\u001b[39;00m begin_run()\n",
      "File \u001b[0;32m~/py_env/lib/python3.10/site-packages/prefect/utilities/asyncutils.py:177\u001b[0m, in \u001b[0;36mrun_async_from_worker_thread\u001b[0;34m(__fn, *args, **kwargs)\u001b[0m\n\u001b[1;32m    172\u001b[0m \u001b[39m\u001b[39m\u001b[39m\"\"\"\u001b[39;00m\n\u001b[1;32m    173\u001b[0m \u001b[39mRuns an async function in the main thread's event loop, blocking the worker\u001b[39;00m\n\u001b[1;32m    174\u001b[0m \u001b[39mthread until completion\u001b[39;00m\n\u001b[1;32m    175\u001b[0m \u001b[39m\"\"\"\u001b[39;00m\n\u001b[1;32m    176\u001b[0m call \u001b[39m=\u001b[39m partial(__fn, \u001b[39m*\u001b[39margs, \u001b[39m*\u001b[39m\u001b[39m*\u001b[39mkwargs)\n\u001b[0;32m--> 177\u001b[0m \u001b[39mreturn\u001b[39;00m anyio\u001b[39m.\u001b[39;49mfrom_thread\u001b[39m.\u001b[39;49mrun(call)\n",
      "File \u001b[0;32m~/py_env/lib/python3.10/site-packages/anyio/from_thread.py:49\u001b[0m, in \u001b[0;36mrun\u001b[0;34m(func, *args)\u001b[0m\n\u001b[1;32m     46\u001b[0m \u001b[39mexcept\u001b[39;00m \u001b[39mAttributeError\u001b[39;00m:\n\u001b[1;32m     47\u001b[0m     \u001b[39mraise\u001b[39;00m \u001b[39mRuntimeError\u001b[39;00m(\u001b[39m\"\u001b[39m\u001b[39mThis function can only be run from an AnyIO worker thread\u001b[39m\u001b[39m\"\u001b[39m)\n\u001b[0;32m---> 49\u001b[0m \u001b[39mreturn\u001b[39;00m asynclib\u001b[39m.\u001b[39;49mrun_async_from_thread(func, \u001b[39m*\u001b[39;49margs)\n",
      "File \u001b[0;32m~/py_env/lib/python3.10/site-packages/anyio/_backends/_asyncio.py:970\u001b[0m, in \u001b[0;36mrun_async_from_thread\u001b[0;34m(func, *args)\u001b[0m\n\u001b[1;32m    964\u001b[0m \u001b[39mdef\u001b[39;00m \u001b[39mrun_async_from_thread\u001b[39m(\n\u001b[1;32m    965\u001b[0m     func: Callable[\u001b[39m.\u001b[39m\u001b[39m.\u001b[39m\u001b[39m.\u001b[39m, Coroutine[Any, Any, T_Retval]], \u001b[39m*\u001b[39margs: \u001b[39mobject\u001b[39m\n\u001b[1;32m    966\u001b[0m ) \u001b[39m-\u001b[39m\u001b[39m>\u001b[39m T_Retval:\n\u001b[1;32m    967\u001b[0m     f: concurrent\u001b[39m.\u001b[39mfutures\u001b[39m.\u001b[39mFuture[T_Retval] \u001b[39m=\u001b[39m asyncio\u001b[39m.\u001b[39mrun_coroutine_threadsafe(\n\u001b[1;32m    968\u001b[0m         func(\u001b[39m*\u001b[39margs), threadlocals\u001b[39m.\u001b[39mloop\n\u001b[1;32m    969\u001b[0m     )\n\u001b[0;32m--> 970\u001b[0m     \u001b[39mreturn\u001b[39;00m f\u001b[39m.\u001b[39;49mresult()\n",
      "File \u001b[0;32m/usr/lib/python3.10/concurrent/futures/_base.py:458\u001b[0m, in \u001b[0;36mFuture.result\u001b[0;34m(self, timeout)\u001b[0m\n\u001b[1;32m    456\u001b[0m     \u001b[39mraise\u001b[39;00m CancelledError()\n\u001b[1;32m    457\u001b[0m \u001b[39melif\u001b[39;00m \u001b[39mself\u001b[39m\u001b[39m.\u001b[39m_state \u001b[39m==\u001b[39m FINISHED:\n\u001b[0;32m--> 458\u001b[0m     \u001b[39mreturn\u001b[39;00m \u001b[39mself\u001b[39;49m\u001b[39m.\u001b[39;49m__get_result()\n\u001b[1;32m    459\u001b[0m \u001b[39melse\u001b[39;00m:\n\u001b[1;32m    460\u001b[0m     \u001b[39mraise\u001b[39;00m \u001b[39mTimeoutError\u001b[39;00m()\n",
      "File \u001b[0;32m/usr/lib/python3.10/concurrent/futures/_base.py:403\u001b[0m, in \u001b[0;36mFuture.__get_result\u001b[0;34m(self)\u001b[0m\n\u001b[1;32m    401\u001b[0m \u001b[39mif\u001b[39;00m \u001b[39mself\u001b[39m\u001b[39m.\u001b[39m_exception:\n\u001b[1;32m    402\u001b[0m     \u001b[39mtry\u001b[39;00m:\n\u001b[0;32m--> 403\u001b[0m         \u001b[39mraise\u001b[39;00m \u001b[39mself\u001b[39m\u001b[39m.\u001b[39m_exception\n\u001b[1;32m    404\u001b[0m     \u001b[39mfinally\u001b[39;00m:\n\u001b[1;32m    405\u001b[0m         \u001b[39m# Break a reference cycle with the exception in self._exception\u001b[39;00m\n\u001b[1;32m    406\u001b[0m         \u001b[39mself\u001b[39m \u001b[39m=\u001b[39m \u001b[39mNone\u001b[39;00m\n",
      "File \u001b[0;32m~/py_env/lib/python3.10/site-packages/prefect/client/utilities.py:47\u001b[0m, in \u001b[0;36minject_client.<locals>.with_injected_client\u001b[0;34m(*args, **kwargs)\u001b[0m\n\u001b[1;32m     45\u001b[0m \u001b[39masync\u001b[39;00m \u001b[39mwith\u001b[39;00m client_context \u001b[39mas\u001b[39;00m new_client:\n\u001b[1;32m     46\u001b[0m     kwargs\u001b[39m.\u001b[39msetdefault(\u001b[39m\"\u001b[39m\u001b[39mclient\u001b[39m\u001b[39m\"\u001b[39m, new_client \u001b[39mor\u001b[39;00m client)\n\u001b[0;32m---> 47\u001b[0m     \u001b[39mreturn\u001b[39;00m \u001b[39mawait\u001b[39;00m fn(\u001b[39m*\u001b[39margs, \u001b[39m*\u001b[39m\u001b[39m*\u001b[39mkwargs)\n",
      "File \u001b[0;32m~/py_env/lib/python3.10/site-packages/prefect/engine.py:552\u001b[0m, in \u001b[0;36mcreate_and_begin_subflow_run\u001b[0;34m(flow, parameters, wait_for, return_type, client)\u001b[0m\n\u001b[1;32m    550\u001b[0m     \u001b[39mreturn\u001b[39;00m terminal_state\n\u001b[1;32m    551\u001b[0m \u001b[39melif\u001b[39;00m return_type \u001b[39m==\u001b[39m \u001b[39m\"\u001b[39m\u001b[39mresult\u001b[39m\u001b[39m\"\u001b[39m:\n\u001b[0;32m--> 552\u001b[0m     \u001b[39mreturn\u001b[39;00m \u001b[39mawait\u001b[39;00m terminal_state\u001b[39m.\u001b[39mresult(fetch\u001b[39m=\u001b[39m\u001b[39mTrue\u001b[39;00m)\n\u001b[1;32m    553\u001b[0m \u001b[39melse\u001b[39;00m:\n\u001b[1;32m    554\u001b[0m     \u001b[39mraise\u001b[39;00m \u001b[39mValueError\u001b[39;00m(\u001b[39mf\u001b[39m\u001b[39m\"\u001b[39m\u001b[39mInvalid return type for flow engine \u001b[39m\u001b[39m{\u001b[39;00mreturn_type\u001b[39m!r}\u001b[39;00m\u001b[39m.\u001b[39m\u001b[39m\"\u001b[39m)\n",
      "File \u001b[0;32m~/py_env/lib/python3.10/site-packages/prefect/states.py:89\u001b[0m, in \u001b[0;36m_get_state_result\u001b[0;34m(state, raise_on_failure)\u001b[0m\n\u001b[1;32m     84\u001b[0m     \u001b[39mraise\u001b[39;00m PausedRun(\u001b[39m\"\u001b[39m\u001b[39mRun paused.\u001b[39m\u001b[39m\"\u001b[39m)\n\u001b[1;32m     86\u001b[0m \u001b[39mif\u001b[39;00m raise_on_failure \u001b[39mand\u001b[39;00m (\n\u001b[1;32m     87\u001b[0m     state\u001b[39m.\u001b[39mis_crashed() \u001b[39mor\u001b[39;00m state\u001b[39m.\u001b[39mis_failed() \u001b[39mor\u001b[39;00m state\u001b[39m.\u001b[39mis_cancelled()\n\u001b[1;32m     88\u001b[0m ):\n\u001b[0;32m---> 89\u001b[0m     \u001b[39mraise\u001b[39;00m \u001b[39mawait\u001b[39;00m get_state_exception(state)\n\u001b[1;32m     91\u001b[0m \u001b[39mif\u001b[39;00m \u001b[39misinstance\u001b[39m(state\u001b[39m.\u001b[39mdata, DataDocument):\n\u001b[1;32m     92\u001b[0m     result \u001b[39m=\u001b[39m result_from_state_with_data_document(\n\u001b[1;32m     93\u001b[0m         state, raise_on_failure\u001b[39m=\u001b[39mraise_on_failure\n\u001b[1;32m     94\u001b[0m     )\n",
      "File \u001b[0;32m~/py_env/lib/python3.10/site-packages/prefect/engine.py:642\u001b[0m, in \u001b[0;36morchestrate_flow_run\u001b[0;34m(flow, flow_run, parameters, wait_for, interruptible, client, partial_flow_run_context)\u001b[0m\n\u001b[1;32m    636\u001b[0m             \u001b[39melse\u001b[39;00m:\n\u001b[1;32m    637\u001b[0m                 run_sync \u001b[39m=\u001b[39m (\n\u001b[1;32m    638\u001b[0m                     run_sync_in_interruptible_worker_thread\n\u001b[1;32m    639\u001b[0m                     \u001b[39mif\u001b[39;00m interruptible \u001b[39mor\u001b[39;00m timeout_scope\n\u001b[1;32m    640\u001b[0m                     \u001b[39melse\u001b[39;00m run_sync_in_worker_thread\n\u001b[1;32m    641\u001b[0m                 )\n\u001b[0;32m--> 642\u001b[0m                 result \u001b[39m=\u001b[39m \u001b[39mawait\u001b[39;00m run_sync(flow_call)\n\u001b[1;32m    644\u001b[0m         waited_for_task_runs \u001b[39m=\u001b[39m \u001b[39mawait\u001b[39;00m wait_for_task_runs_and_report_crashes(\n\u001b[1;32m    645\u001b[0m             flow_run_context\u001b[39m.\u001b[39mtask_run_futures, client\u001b[39m=\u001b[39mclient\n\u001b[1;32m    646\u001b[0m         )\n\u001b[1;32m    647\u001b[0m \u001b[39mexcept\u001b[39;00m PausedRun:\n",
      "File \u001b[0;32m~/py_env/lib/python3.10/site-packages/prefect/utilities/asyncutils.py:154\u001b[0m, in \u001b[0;36mrun_sync_in_interruptible_worker_thread\u001b[0;34m(__fn, *args, **kwargs)\u001b[0m\n\u001b[1;32m    151\u001b[0m         raise_async_exception_in_thread(thread, anyio\u001b[39m.\u001b[39mget_cancelled_exc_class())\n\u001b[1;32m    152\u001b[0m         \u001b[39mraise\u001b[39;00m\n\u001b[0;32m--> 154\u001b[0m \u001b[39masync\u001b[39;00m \u001b[39mwith\u001b[39;00m anyio\u001b[39m.\u001b[39mcreate_task_group() \u001b[39mas\u001b[39;00m tg:\n\u001b[1;32m    155\u001b[0m     tg\u001b[39m.\u001b[39mstart_soon(send_interrupt_to_thread)\n\u001b[1;32m    156\u001b[0m     tg\u001b[39m.\u001b[39mstart_soon(\n\u001b[1;32m    157\u001b[0m         partial(\n\u001b[1;32m    158\u001b[0m             anyio\u001b[39m.\u001b[39mto_thread\u001b[39m.\u001b[39mrun_sync,\n\u001b[0;32m   (...)\u001b[0m\n\u001b[1;32m    162\u001b[0m         )\n\u001b[1;32m    163\u001b[0m     )\n",
      "File \u001b[0;32m~/py_env/lib/python3.10/site-packages/anyio/_backends/_asyncio.py:662\u001b[0m, in \u001b[0;36mTaskGroup.__aexit__\u001b[0;34m(self, exc_type, exc_val, exc_tb)\u001b[0m\n\u001b[1;32m    660\u001b[0m             \u001b[39mraise\u001b[39;00m ExceptionGroup(exceptions)\n\u001b[1;32m    661\u001b[0m     \u001b[39melif\u001b[39;00m exceptions \u001b[39mand\u001b[39;00m exceptions[\u001b[39m0\u001b[39m] \u001b[39mis\u001b[39;00m \u001b[39mnot\u001b[39;00m exc_val:\n\u001b[0;32m--> 662\u001b[0m         \u001b[39mraise\u001b[39;00m exceptions[\u001b[39m0\u001b[39m]\n\u001b[1;32m    663\u001b[0m \u001b[39mexcept\u001b[39;00m \u001b[39mBaseException\u001b[39;00m \u001b[39mas\u001b[39;00m exc:\n\u001b[1;32m    664\u001b[0m     \u001b[39m# Clear the context here, as it can only be done in-flight.\u001b[39;00m\n\u001b[1;32m    665\u001b[0m     \u001b[39m# If the context is not cleared, it can result in recursive tracebacks (see #145).\u001b[39;00m\n\u001b[1;32m    666\u001b[0m     exc\u001b[39m.\u001b[39m__context__ \u001b[39m=\u001b[39m \u001b[39mNone\u001b[39;00m\n",
      "File \u001b[0;32m~/py_env/lib/python3.10/site-packages/anyio/to_thread.py:31\u001b[0m, in \u001b[0;36mrun_sync\u001b[0;34m(func, cancellable, limiter, *args)\u001b[0m\n\u001b[1;32m     10\u001b[0m \u001b[39masync\u001b[39;00m \u001b[39mdef\u001b[39;00m \u001b[39mrun_sync\u001b[39m(\n\u001b[1;32m     11\u001b[0m     func: Callable[\u001b[39m.\u001b[39m\u001b[39m.\u001b[39m\u001b[39m.\u001b[39m, T_Retval],\n\u001b[1;32m     12\u001b[0m     \u001b[39m*\u001b[39margs: \u001b[39mobject\u001b[39m,\n\u001b[1;32m     13\u001b[0m     cancellable: \u001b[39mbool\u001b[39m \u001b[39m=\u001b[39m \u001b[39mFalse\u001b[39;00m,\n\u001b[1;32m     14\u001b[0m     limiter: Optional[CapacityLimiter] \u001b[39m=\u001b[39m \u001b[39mNone\u001b[39;00m\n\u001b[1;32m     15\u001b[0m ) \u001b[39m-\u001b[39m\u001b[39m>\u001b[39m T_Retval:\n\u001b[1;32m     16\u001b[0m \u001b[39m    \u001b[39m\u001b[39m\"\"\"\u001b[39;00m\n\u001b[1;32m     17\u001b[0m \u001b[39m    Call the given function with the given arguments in a worker thread.\u001b[39;00m\n\u001b[1;32m     18\u001b[0m \n\u001b[0;32m   (...)\u001b[0m\n\u001b[1;32m     29\u001b[0m \n\u001b[1;32m     30\u001b[0m \u001b[39m    \"\"\"\u001b[39;00m\n\u001b[0;32m---> 31\u001b[0m     \u001b[39mreturn\u001b[39;00m \u001b[39mawait\u001b[39;00m get_asynclib()\u001b[39m.\u001b[39mrun_sync_in_worker_thread(\n\u001b[1;32m     32\u001b[0m         func, \u001b[39m*\u001b[39margs, cancellable\u001b[39m=\u001b[39mcancellable, limiter\u001b[39m=\u001b[39mlimiter\n\u001b[1;32m     33\u001b[0m     )\n",
      "File \u001b[0;32m~/py_env/lib/python3.10/site-packages/anyio/_backends/_asyncio.py:937\u001b[0m, in \u001b[0;36mrun_sync_in_worker_thread\u001b[0;34m(func, cancellable, limiter, *args)\u001b[0m\n\u001b[1;32m    935\u001b[0m context\u001b[39m.\u001b[39mrun(sniffio\u001b[39m.\u001b[39mcurrent_async_library_cvar\u001b[39m.\u001b[39mset, \u001b[39mNone\u001b[39;00m)\n\u001b[1;32m    936\u001b[0m worker\u001b[39m.\u001b[39mqueue\u001b[39m.\u001b[39mput_nowait((context, func, args, future))\n\u001b[0;32m--> 937\u001b[0m \u001b[39mreturn\u001b[39;00m \u001b[39mawait\u001b[39;00m future\n",
      "File \u001b[0;32m~/py_env/lib/python3.10/site-packages/anyio/_backends/_asyncio.py:867\u001b[0m, in \u001b[0;36mWorkerThread.run\u001b[0;34m(self)\u001b[0m\n\u001b[1;32m    865\u001b[0m exception: Optional[\u001b[39mBaseException\u001b[39;00m] \u001b[39m=\u001b[39m \u001b[39mNone\u001b[39;00m\n\u001b[1;32m    866\u001b[0m \u001b[39mtry\u001b[39;00m:\n\u001b[0;32m--> 867\u001b[0m     result \u001b[39m=\u001b[39m context\u001b[39m.\u001b[39;49mrun(func, \u001b[39m*\u001b[39;49margs)\n\u001b[1;32m    868\u001b[0m \u001b[39mexcept\u001b[39;00m \u001b[39mBaseException\u001b[39;00m \u001b[39mas\u001b[39;00m exc:\n\u001b[1;32m    869\u001b[0m     exception \u001b[39m=\u001b[39m exc\n",
      "File \u001b[0;32m~/py_env/lib/python3.10/site-packages/prefect/utilities/asyncutils.py:135\u001b[0m, in \u001b[0;36mrun_sync_in_interruptible_worker_thread.<locals>.capture_worker_thread_and_result\u001b[0;34m()\u001b[0m\n\u001b[1;32m    133\u001b[0m \u001b[39mtry\u001b[39;00m:\n\u001b[1;32m    134\u001b[0m     thread \u001b[39m=\u001b[39m threading\u001b[39m.\u001b[39mcurrent_thread()\n\u001b[0;32m--> 135\u001b[0m     result \u001b[39m=\u001b[39m __fn(\u001b[39m*\u001b[39;49margs, \u001b[39m*\u001b[39;49m\u001b[39m*\u001b[39;49mkwargs)\n\u001b[1;32m    136\u001b[0m \u001b[39mexcept\u001b[39;00m \u001b[39mBaseException\u001b[39;00m \u001b[39mas\u001b[39;00m exc:\n\u001b[1;32m    137\u001b[0m     result \u001b[39m=\u001b[39m exc\n",
      "Cell \u001b[0;32mIn[23], line 7\u001b[0m, in \u001b[0;36metl_web_to_local_to_gcs\u001b[0;34m(year, month)\u001b[0m\n\u001b[1;32m      5\u001b[0m raw_df \u001b[39m=\u001b[39m load_csv_data(file_name)\n\u001b[1;32m      6\u001b[0m cleaned_df \u001b[39m=\u001b[39m clean_local_data(raw_df)\n\u001b[0;32m----> 7\u001b[0m transformed_df \u001b[39m=\u001b[39m transform_data (cleaned_df, year, month)\n\u001b[1;32m      8\u001b[0m final_df \u001b[39m=\u001b[39m save_transformed_data (transformed_df, file_name)\n\u001b[1;32m      9\u001b[0m write_gcs(file_name, \u001b[39m\"\u001b[39m\u001b[39mLand_and_Property\u001b[39m\u001b[39m\"\u001b[39m)\n",
      "File \u001b[0;32m~/py_env/lib/python3.10/site-packages/prefect/tasks.py:448\u001b[0m, in \u001b[0;36mTask.__call__\u001b[0;34m(self, return_state, wait_for, *args, **kwargs)\u001b[0m\n\u001b[1;32m    444\u001b[0m parameters \u001b[39m=\u001b[39m get_call_parameters(\u001b[39mself\u001b[39m\u001b[39m.\u001b[39mfn, args, kwargs)\n\u001b[1;32m    446\u001b[0m return_type \u001b[39m=\u001b[39m \u001b[39m\"\u001b[39m\u001b[39mstate\u001b[39m\u001b[39m\"\u001b[39m \u001b[39mif\u001b[39;00m return_state \u001b[39melse\u001b[39;00m \u001b[39m\"\u001b[39m\u001b[39mresult\u001b[39m\u001b[39m\"\u001b[39m\n\u001b[0;32m--> 448\u001b[0m \u001b[39mreturn\u001b[39;00m enter_task_run_engine(\n\u001b[1;32m    449\u001b[0m     \u001b[39mself\u001b[39;49m,\n\u001b[1;32m    450\u001b[0m     parameters\u001b[39m=\u001b[39;49mparameters,\n\u001b[1;32m    451\u001b[0m     wait_for\u001b[39m=\u001b[39;49mwait_for,\n\u001b[1;32m    452\u001b[0m     task_runner\u001b[39m=\u001b[39;49mSequentialTaskRunner(),\n\u001b[1;32m    453\u001b[0m     return_type\u001b[39m=\u001b[39;49mreturn_type,\n\u001b[1;32m    454\u001b[0m     mapped\u001b[39m=\u001b[39;49m\u001b[39mFalse\u001b[39;49;00m,\n\u001b[1;32m    455\u001b[0m )\n",
      "File \u001b[0;32m~/py_env/lib/python3.10/site-packages/prefect/engine.py:932\u001b[0m, in \u001b[0;36menter_task_run_engine\u001b[0;34m(task, parameters, wait_for, return_type, task_runner, mapped)\u001b[0m\n\u001b[1;32m    930\u001b[0m \u001b[39m# Async or sync task run in sync flow run\u001b[39;00m\n\u001b[1;32m    931\u001b[0m \u001b[39melif\u001b[39;00m \u001b[39mnot\u001b[39;00m flow_run_context\u001b[39m.\u001b[39mflow\u001b[39m.\u001b[39misasync:\n\u001b[0;32m--> 932\u001b[0m     \u001b[39mreturn\u001b[39;00m run_async_from_worker_thread(begin_run)\n\u001b[1;32m    934\u001b[0m \u001b[39m# Sync task run in async flow run\u001b[39;00m\n\u001b[1;32m    935\u001b[0m \u001b[39melse\u001b[39;00m:\n\u001b[1;32m    936\u001b[0m     \u001b[39m# Call out to the sync portal since we are not in a worker thread\u001b[39;00m\n\u001b[1;32m    937\u001b[0m     \u001b[39mreturn\u001b[39;00m flow_run_context\u001b[39m.\u001b[39msync_portal\u001b[39m.\u001b[39mcall(begin_run)\n",
      "File \u001b[0;32m~/py_env/lib/python3.10/site-packages/prefect/utilities/asyncutils.py:177\u001b[0m, in \u001b[0;36mrun_async_from_worker_thread\u001b[0;34m(__fn, *args, **kwargs)\u001b[0m\n\u001b[1;32m    172\u001b[0m \u001b[39m\u001b[39m\u001b[39m\"\"\"\u001b[39;00m\n\u001b[1;32m    173\u001b[0m \u001b[39mRuns an async function in the main thread's event loop, blocking the worker\u001b[39;00m\n\u001b[1;32m    174\u001b[0m \u001b[39mthread until completion\u001b[39;00m\n\u001b[1;32m    175\u001b[0m \u001b[39m\"\"\"\u001b[39;00m\n\u001b[1;32m    176\u001b[0m call \u001b[39m=\u001b[39m partial(__fn, \u001b[39m*\u001b[39margs, \u001b[39m*\u001b[39m\u001b[39m*\u001b[39mkwargs)\n\u001b[0;32m--> 177\u001b[0m \u001b[39mreturn\u001b[39;00m anyio\u001b[39m.\u001b[39;49mfrom_thread\u001b[39m.\u001b[39;49mrun(call)\n",
      "File \u001b[0;32m~/py_env/lib/python3.10/site-packages/anyio/from_thread.py:49\u001b[0m, in \u001b[0;36mrun\u001b[0;34m(func, *args)\u001b[0m\n\u001b[1;32m     46\u001b[0m \u001b[39mexcept\u001b[39;00m \u001b[39mAttributeError\u001b[39;00m:\n\u001b[1;32m     47\u001b[0m     \u001b[39mraise\u001b[39;00m \u001b[39mRuntimeError\u001b[39;00m(\u001b[39m\"\u001b[39m\u001b[39mThis function can only be run from an AnyIO worker thread\u001b[39m\u001b[39m\"\u001b[39m)\n\u001b[0;32m---> 49\u001b[0m \u001b[39mreturn\u001b[39;00m asynclib\u001b[39m.\u001b[39;49mrun_async_from_thread(func, \u001b[39m*\u001b[39;49margs)\n",
      "File \u001b[0;32m~/py_env/lib/python3.10/site-packages/anyio/_backends/_asyncio.py:970\u001b[0m, in \u001b[0;36mrun_async_from_thread\u001b[0;34m(func, *args)\u001b[0m\n\u001b[1;32m    964\u001b[0m \u001b[39mdef\u001b[39;00m \u001b[39mrun_async_from_thread\u001b[39m(\n\u001b[1;32m    965\u001b[0m     func: Callable[\u001b[39m.\u001b[39m\u001b[39m.\u001b[39m\u001b[39m.\u001b[39m, Coroutine[Any, Any, T_Retval]], \u001b[39m*\u001b[39margs: \u001b[39mobject\u001b[39m\n\u001b[1;32m    966\u001b[0m ) \u001b[39m-\u001b[39m\u001b[39m>\u001b[39m T_Retval:\n\u001b[1;32m    967\u001b[0m     f: concurrent\u001b[39m.\u001b[39mfutures\u001b[39m.\u001b[39mFuture[T_Retval] \u001b[39m=\u001b[39m asyncio\u001b[39m.\u001b[39mrun_coroutine_threadsafe(\n\u001b[1;32m    968\u001b[0m         func(\u001b[39m*\u001b[39margs), threadlocals\u001b[39m.\u001b[39mloop\n\u001b[1;32m    969\u001b[0m     )\n\u001b[0;32m--> 970\u001b[0m     \u001b[39mreturn\u001b[39;00m f\u001b[39m.\u001b[39;49mresult()\n",
      "File \u001b[0;32m/usr/lib/python3.10/concurrent/futures/_base.py:458\u001b[0m, in \u001b[0;36mFuture.result\u001b[0;34m(self, timeout)\u001b[0m\n\u001b[1;32m    456\u001b[0m     \u001b[39mraise\u001b[39;00m CancelledError()\n\u001b[1;32m    457\u001b[0m \u001b[39melif\u001b[39;00m \u001b[39mself\u001b[39m\u001b[39m.\u001b[39m_state \u001b[39m==\u001b[39m FINISHED:\n\u001b[0;32m--> 458\u001b[0m     \u001b[39mreturn\u001b[39;00m \u001b[39mself\u001b[39;49m\u001b[39m.\u001b[39;49m__get_result()\n\u001b[1;32m    459\u001b[0m \u001b[39melse\u001b[39;00m:\n\u001b[1;32m    460\u001b[0m     \u001b[39mraise\u001b[39;00m \u001b[39mTimeoutError\u001b[39;00m()\n",
      "File \u001b[0;32m/usr/lib/python3.10/concurrent/futures/_base.py:403\u001b[0m, in \u001b[0;36mFuture.__get_result\u001b[0;34m(self)\u001b[0m\n\u001b[1;32m    401\u001b[0m \u001b[39mif\u001b[39;00m \u001b[39mself\u001b[39m\u001b[39m.\u001b[39m_exception:\n\u001b[1;32m    402\u001b[0m     \u001b[39mtry\u001b[39;00m:\n\u001b[0;32m--> 403\u001b[0m         \u001b[39mraise\u001b[39;00m \u001b[39mself\u001b[39m\u001b[39m.\u001b[39m_exception\n\u001b[1;32m    404\u001b[0m     \u001b[39mfinally\u001b[39;00m:\n\u001b[1;32m    405\u001b[0m         \u001b[39m# Break a reference cycle with the exception in self._exception\u001b[39;00m\n\u001b[1;32m    406\u001b[0m         \u001b[39mself\u001b[39m \u001b[39m=\u001b[39m \u001b[39mNone\u001b[39;00m\n",
      "File \u001b[0;32m~/py_env/lib/python3.10/site-packages/prefect/engine.py:1081\u001b[0m, in \u001b[0;36mget_task_call_return_value\u001b[0;34m(task, flow_run_context, parameters, wait_for, return_type, task_runner, extra_task_inputs)\u001b[0m\n\u001b[1;32m   1079\u001b[0m     \u001b[39mreturn\u001b[39;00m \u001b[39mawait\u001b[39;00m future\u001b[39m.\u001b[39m_wait()\n\u001b[1;32m   1080\u001b[0m \u001b[39melif\u001b[39;00m return_type \u001b[39m==\u001b[39m \u001b[39m\"\u001b[39m\u001b[39mresult\u001b[39m\u001b[39m\"\u001b[39m:\n\u001b[0;32m-> 1081\u001b[0m     \u001b[39mreturn\u001b[39;00m \u001b[39mawait\u001b[39;00m future\u001b[39m.\u001b[39m_result()\n\u001b[1;32m   1082\u001b[0m \u001b[39melse\u001b[39;00m:\n\u001b[1;32m   1083\u001b[0m     \u001b[39mraise\u001b[39;00m \u001b[39mValueError\u001b[39;00m(\u001b[39mf\u001b[39m\u001b[39m\"\u001b[39m\u001b[39mInvalid return type for task engine \u001b[39m\u001b[39m{\u001b[39;00mreturn_type\u001b[39m!r}\u001b[39;00m\u001b[39m.\u001b[39m\u001b[39m\"\u001b[39m)\n",
      "File \u001b[0;32m~/py_env/lib/python3.10/site-packages/prefect/futures.py:237\u001b[0m, in \u001b[0;36mPrefectFuture._result\u001b[0;34m(self, timeout, raise_on_failure)\u001b[0m\n\u001b[1;32m    235\u001b[0m \u001b[39mif\u001b[39;00m \u001b[39mnot\u001b[39;00m final_state:\n\u001b[1;32m    236\u001b[0m     \u001b[39mraise\u001b[39;00m \u001b[39mTimeoutError\u001b[39;00m(\u001b[39m\"\u001b[39m\u001b[39mCall timed out before task finished.\u001b[39m\u001b[39m\"\u001b[39m)\n\u001b[0;32m--> 237\u001b[0m \u001b[39mreturn\u001b[39;00m \u001b[39mawait\u001b[39;00m final_state\u001b[39m.\u001b[39mresult(raise_on_failure\u001b[39m=\u001b[39mraise_on_failure, fetch\u001b[39m=\u001b[39m\u001b[39mTrue\u001b[39;00m)\n",
      "File \u001b[0;32m~/py_env/lib/python3.10/site-packages/prefect/states.py:89\u001b[0m, in \u001b[0;36m_get_state_result\u001b[0;34m(state, raise_on_failure)\u001b[0m\n\u001b[1;32m     84\u001b[0m     \u001b[39mraise\u001b[39;00m PausedRun(\u001b[39m\"\u001b[39m\u001b[39mRun paused.\u001b[39m\u001b[39m\"\u001b[39m)\n\u001b[1;32m     86\u001b[0m \u001b[39mif\u001b[39;00m raise_on_failure \u001b[39mand\u001b[39;00m (\n\u001b[1;32m     87\u001b[0m     state\u001b[39m.\u001b[39mis_crashed() \u001b[39mor\u001b[39;00m state\u001b[39m.\u001b[39mis_failed() \u001b[39mor\u001b[39;00m state\u001b[39m.\u001b[39mis_cancelled()\n\u001b[1;32m     88\u001b[0m ):\n\u001b[0;32m---> 89\u001b[0m     \u001b[39mraise\u001b[39;00m \u001b[39mawait\u001b[39;00m get_state_exception(state)\n\u001b[1;32m     91\u001b[0m \u001b[39mif\u001b[39;00m \u001b[39misinstance\u001b[39m(state\u001b[39m.\u001b[39mdata, DataDocument):\n\u001b[1;32m     92\u001b[0m     result \u001b[39m=\u001b[39m result_from_state_with_data_document(\n\u001b[1;32m     93\u001b[0m         state, raise_on_failure\u001b[39m=\u001b[39mraise_on_failure\n\u001b[1;32m     94\u001b[0m     )\n",
      "File \u001b[0;32m~/py_env/lib/python3.10/site-packages/prefect/engine.py:1487\u001b[0m, in \u001b[0;36morchestrate_task_run\u001b[0;34m(task, task_run, parameters, wait_for, result_factory, log_prints, interruptible, client)\u001b[0m\n\u001b[1;32m   1481\u001b[0m             \u001b[39melse\u001b[39;00m:\n\u001b[1;32m   1482\u001b[0m                 run_sync \u001b[39m=\u001b[39m (\n\u001b[1;32m   1483\u001b[0m                     run_sync_in_interruptible_worker_thread\n\u001b[1;32m   1484\u001b[0m                     \u001b[39mif\u001b[39;00m interruptible \u001b[39mor\u001b[39;00m timeout_scope\n\u001b[1;32m   1485\u001b[0m                     \u001b[39melse\u001b[39;00m run_sync_in_worker_thread\n\u001b[1;32m   1486\u001b[0m                 )\n\u001b[0;32m-> 1487\u001b[0m                 result \u001b[39m=\u001b[39m \u001b[39mawait\u001b[39;00m run_sync(task\u001b[39m.\u001b[39mfn, \u001b[39m*\u001b[39margs, \u001b[39m*\u001b[39m\u001b[39m*\u001b[39mkwargs)\n\u001b[1;32m   1489\u001b[0m \u001b[39mexcept\u001b[39;00m \u001b[39mException\u001b[39;00m \u001b[39mas\u001b[39;00m exc:\n\u001b[1;32m   1490\u001b[0m     name \u001b[39m=\u001b[39m message \u001b[39m=\u001b[39m \u001b[39mNone\u001b[39;00m\n",
      "File \u001b[0;32m~/py_env/lib/python3.10/site-packages/prefect/utilities/asyncutils.py:154\u001b[0m, in \u001b[0;36mrun_sync_in_interruptible_worker_thread\u001b[0;34m(__fn, *args, **kwargs)\u001b[0m\n\u001b[1;32m    151\u001b[0m         raise_async_exception_in_thread(thread, anyio\u001b[39m.\u001b[39mget_cancelled_exc_class())\n\u001b[1;32m    152\u001b[0m         \u001b[39mraise\u001b[39;00m\n\u001b[0;32m--> 154\u001b[0m \u001b[39masync\u001b[39;00m \u001b[39mwith\u001b[39;00m anyio\u001b[39m.\u001b[39mcreate_task_group() \u001b[39mas\u001b[39;00m tg:\n\u001b[1;32m    155\u001b[0m     tg\u001b[39m.\u001b[39mstart_soon(send_interrupt_to_thread)\n\u001b[1;32m    156\u001b[0m     tg\u001b[39m.\u001b[39mstart_soon(\n\u001b[1;32m    157\u001b[0m         partial(\n\u001b[1;32m    158\u001b[0m             anyio\u001b[39m.\u001b[39mto_thread\u001b[39m.\u001b[39mrun_sync,\n\u001b[0;32m   (...)\u001b[0m\n\u001b[1;32m    162\u001b[0m         )\n\u001b[1;32m    163\u001b[0m     )\n",
      "File \u001b[0;32m~/py_env/lib/python3.10/site-packages/anyio/_backends/_asyncio.py:662\u001b[0m, in \u001b[0;36mTaskGroup.__aexit__\u001b[0;34m(self, exc_type, exc_val, exc_tb)\u001b[0m\n\u001b[1;32m    660\u001b[0m             \u001b[39mraise\u001b[39;00m ExceptionGroup(exceptions)\n\u001b[1;32m    661\u001b[0m     \u001b[39melif\u001b[39;00m exceptions \u001b[39mand\u001b[39;00m exceptions[\u001b[39m0\u001b[39m] \u001b[39mis\u001b[39;00m \u001b[39mnot\u001b[39;00m exc_val:\n\u001b[0;32m--> 662\u001b[0m         \u001b[39mraise\u001b[39;00m exceptions[\u001b[39m0\u001b[39m]\n\u001b[1;32m    663\u001b[0m \u001b[39mexcept\u001b[39;00m \u001b[39mBaseException\u001b[39;00m \u001b[39mas\u001b[39;00m exc:\n\u001b[1;32m    664\u001b[0m     \u001b[39m# Clear the context here, as it can only be done in-flight.\u001b[39;00m\n\u001b[1;32m    665\u001b[0m     \u001b[39m# If the context is not cleared, it can result in recursive tracebacks (see #145).\u001b[39;00m\n\u001b[1;32m    666\u001b[0m     exc\u001b[39m.\u001b[39m__context__ \u001b[39m=\u001b[39m \u001b[39mNone\u001b[39;00m\n",
      "File \u001b[0;32m~/py_env/lib/python3.10/site-packages/anyio/to_thread.py:31\u001b[0m, in \u001b[0;36mrun_sync\u001b[0;34m(func, cancellable, limiter, *args)\u001b[0m\n\u001b[1;32m     10\u001b[0m \u001b[39masync\u001b[39;00m \u001b[39mdef\u001b[39;00m \u001b[39mrun_sync\u001b[39m(\n\u001b[1;32m     11\u001b[0m     func: Callable[\u001b[39m.\u001b[39m\u001b[39m.\u001b[39m\u001b[39m.\u001b[39m, T_Retval],\n\u001b[1;32m     12\u001b[0m     \u001b[39m*\u001b[39margs: \u001b[39mobject\u001b[39m,\n\u001b[1;32m     13\u001b[0m     cancellable: \u001b[39mbool\u001b[39m \u001b[39m=\u001b[39m \u001b[39mFalse\u001b[39;00m,\n\u001b[1;32m     14\u001b[0m     limiter: Optional[CapacityLimiter] \u001b[39m=\u001b[39m \u001b[39mNone\u001b[39;00m\n\u001b[1;32m     15\u001b[0m ) \u001b[39m-\u001b[39m\u001b[39m>\u001b[39m T_Retval:\n\u001b[1;32m     16\u001b[0m \u001b[39m    \u001b[39m\u001b[39m\"\"\"\u001b[39;00m\n\u001b[1;32m     17\u001b[0m \u001b[39m    Call the given function with the given arguments in a worker thread.\u001b[39;00m\n\u001b[1;32m     18\u001b[0m \n\u001b[0;32m   (...)\u001b[0m\n\u001b[1;32m     29\u001b[0m \n\u001b[1;32m     30\u001b[0m \u001b[39m    \"\"\"\u001b[39;00m\n\u001b[0;32m---> 31\u001b[0m     \u001b[39mreturn\u001b[39;00m \u001b[39mawait\u001b[39;00m get_asynclib()\u001b[39m.\u001b[39mrun_sync_in_worker_thread(\n\u001b[1;32m     32\u001b[0m         func, \u001b[39m*\u001b[39margs, cancellable\u001b[39m=\u001b[39mcancellable, limiter\u001b[39m=\u001b[39mlimiter\n\u001b[1;32m     33\u001b[0m     )\n",
      "File \u001b[0;32m~/py_env/lib/python3.10/site-packages/anyio/_backends/_asyncio.py:937\u001b[0m, in \u001b[0;36mrun_sync_in_worker_thread\u001b[0;34m(func, cancellable, limiter, *args)\u001b[0m\n\u001b[1;32m    935\u001b[0m context\u001b[39m.\u001b[39mrun(sniffio\u001b[39m.\u001b[39mcurrent_async_library_cvar\u001b[39m.\u001b[39mset, \u001b[39mNone\u001b[39;00m)\n\u001b[1;32m    936\u001b[0m worker\u001b[39m.\u001b[39mqueue\u001b[39m.\u001b[39mput_nowait((context, func, args, future))\n\u001b[0;32m--> 937\u001b[0m \u001b[39mreturn\u001b[39;00m \u001b[39mawait\u001b[39;00m future\n",
      "File \u001b[0;32m~/py_env/lib/python3.10/site-packages/anyio/_backends/_asyncio.py:867\u001b[0m, in \u001b[0;36mWorkerThread.run\u001b[0;34m(self)\u001b[0m\n\u001b[1;32m    865\u001b[0m exception: Optional[\u001b[39mBaseException\u001b[39;00m] \u001b[39m=\u001b[39m \u001b[39mNone\u001b[39;00m\n\u001b[1;32m    866\u001b[0m \u001b[39mtry\u001b[39;00m:\n\u001b[0;32m--> 867\u001b[0m     result \u001b[39m=\u001b[39m context\u001b[39m.\u001b[39;49mrun(func, \u001b[39m*\u001b[39;49margs)\n\u001b[1;32m    868\u001b[0m \u001b[39mexcept\u001b[39;00m \u001b[39mBaseException\u001b[39;00m \u001b[39mas\u001b[39;00m exc:\n\u001b[1;32m    869\u001b[0m     exception \u001b[39m=\u001b[39m exc\n",
      "File \u001b[0;32m~/py_env/lib/python3.10/site-packages/prefect/utilities/asyncutils.py:135\u001b[0m, in \u001b[0;36mrun_sync_in_interruptible_worker_thread.<locals>.capture_worker_thread_and_result\u001b[0;34m()\u001b[0m\n\u001b[1;32m    133\u001b[0m \u001b[39mtry\u001b[39;00m:\n\u001b[1;32m    134\u001b[0m     thread \u001b[39m=\u001b[39m threading\u001b[39m.\u001b[39mcurrent_thread()\n\u001b[0;32m--> 135\u001b[0m     result \u001b[39m=\u001b[39m __fn(\u001b[39m*\u001b[39;49margs, \u001b[39m*\u001b[39;49m\u001b[39m*\u001b[39;49mkwargs)\n\u001b[1;32m    136\u001b[0m \u001b[39mexcept\u001b[39;00m \u001b[39mBaseException\u001b[39;00m \u001b[39mas\u001b[39;00m exc:\n\u001b[1;32m    137\u001b[0m     result \u001b[39m=\u001b[39m exc\n",
      "Cell \u001b[0;32mIn[19], line 3\u001b[0m, in \u001b[0;36mtransform_data\u001b[0;34m(df, year, month)\u001b[0m\n\u001b[1;32m      1\u001b[0m \u001b[39m@task\u001b[39m()\n\u001b[1;32m      2\u001b[0m \u001b[39mdef\u001b[39;00m \u001b[39mtransform_data\u001b[39m(df: pd\u001b[39m.\u001b[39mDataFrame, year, month) \u001b[39m-\u001b[39m\u001b[39m>\u001b[39m pd\u001b[39m.\u001b[39mDataFrame:\n\u001b[0;32m----> 3\u001b[0m     df[\u001b[39m\"\u001b[39;49m\u001b[39mdate_added\u001b[39;49m\u001b[39m\"\u001b[39;49m] \u001b[39m=\u001b[39m \u001b[39mf\u001b[39m\u001b[39m\"\u001b[39m\u001b[39m01.\u001b[39m\u001b[39m{\u001b[39;00mmonth\u001b[39m:\u001b[39;00m\u001b[39m02\u001b[39m\u001b[39m}\u001b[39;00m\u001b[39m.\u001b[39m\u001b[39m{\u001b[39;00myear\u001b[39m}\u001b[39;00m\u001b[39m\"\u001b[39m\n\u001b[1;32m      4\u001b[0m     \u001b[39mreturn\u001b[39;00m df\n",
      "File \u001b[0;32m~/py_env/lib/python3.10/site-packages/pandas/core/indexes/base.py:5302\u001b[0m, in \u001b[0;36mIndex.__setitem__\u001b[0;34m(self, key, value)\u001b[0m\n\u001b[1;32m   5300\u001b[0m \u001b[39m@final\u001b[39m\n\u001b[1;32m   5301\u001b[0m \u001b[39mdef\u001b[39;00m \u001b[39m__setitem__\u001b[39m(\u001b[39mself\u001b[39m, key, value):\n\u001b[0;32m-> 5302\u001b[0m     \u001b[39mraise\u001b[39;00m \u001b[39mTypeError\u001b[39;00m(\u001b[39m\"\u001b[39m\u001b[39mIndex does not support mutable operations\u001b[39m\u001b[39m\"\u001b[39m)\n",
      "\u001b[0;31mTypeError\u001b[0m: Index does not support mutable operations"
     ]
    }
   ],
   "source": [
    "if __name__ == '__main__':\n",
    "    years=[2022]\n",
    "    months=[2,3]\n",
    "    etl_parent_flow(years, months) "
   ]
  }
 ],
 "metadata": {
  "kernelspec": {
   "display_name": "py_env",
   "language": "python",
   "name": "python3"
  },
  "language_info": {
   "codemirror_mode": {
    "name": "ipython",
    "version": 3
   },
   "file_extension": ".py",
   "mimetype": "text/x-python",
   "name": "python",
   "nbconvert_exporter": "python",
   "pygments_lexer": "ipython3",
   "version": "3.10.7"
  },
  "orig_nbformat": 4
 },
 "nbformat": 4,
 "nbformat_minor": 2
}
