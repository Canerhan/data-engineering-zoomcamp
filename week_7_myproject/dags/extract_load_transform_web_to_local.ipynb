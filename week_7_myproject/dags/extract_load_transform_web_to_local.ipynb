{
 "cells": [
  {
   "cell_type": "code",
   "execution_count": null,
   "metadata": {},
   "outputs": [],
   "source": [
    "import pandas as pd\n",
    "import io\n",
    "import os\n",
    "import requests\n",
    "import calendar"
   ]
  },
  {
   "attachments": {},
   "cell_type": "markdown",
   "metadata": {},
   "source": [
    "## Download Data"
   ]
  },
  {
   "cell_type": "code",
   "execution_count": null,
   "metadata": {},
   "outputs": [],
   "source": [
    "def download_csv_files(year:int , month:int,file_name) -> None:\n",
    "    \n",
    "    request_url =f\"https://use-land-property-data.service.gov.uk/datasets/td/download/history/{calendar.month_name[month]}%20{year}/{file_name}.csv\"\n",
    "    r = requests.get(request_url)\n",
    "    url_content=r.content\n",
    "    csv_file = open(f'./data/{file_name}.csv', 'wb')\n",
    "    csv_file.write(url_content)\n",
    "    csv_file.close()"
   ]
  },
  {
   "attachments": {},
   "cell_type": "markdown",
   "metadata": {},
   "source": [
    "## Load Data"
   ]
  },
  {
   "cell_type": "code",
   "execution_count": null,
   "metadata": {},
   "outputs": [],
   "source": [
    "def load_csv_data (file_name: str) -> pd.DataFrame:\n",
    "    df = pd.read_csv(f\"./data/{file_name}.csv\", sep=',', header=4, index_col=False)\n",
    "    return df"
   ]
  },
  {
   "attachments": {},
   "cell_type": "markdown",
   "metadata": {},
   "source": [
    "## Cleaning"
   ]
  },
  {
   "cell_type": "code",
   "execution_count": null,
   "metadata": {},
   "outputs": [],
   "source": [
    "def drop_total_rows(df: pd.DataFrame) -> pd.DataFrame:\n",
    "    new_df = df[df[\"Account Customer\"].str.contains(\"Total\")==False]\n",
    "    return new_df"
   ]
  },
  {
   "cell_type": "code",
   "execution_count": null,
   "metadata": {},
   "outputs": [],
   "source": [
    "def drop_total_column(df: pd.DataFrame) -> pd.DataFrame:\n",
    "    \"\"\" We are dropping the \"Total\" Column from the Dataframe \"\"\"\n",
    "    new_df = df.drop([\"Total\"], axis=1)\n",
    "    return new_df"
   ]
  },
  {
   "attachments": {},
   "cell_type": "markdown",
   "metadata": {},
   "source": [
    "## Transformation"
   ]
  },
  {
   "cell_type": "code",
   "execution_count": null,
   "metadata": {},
   "outputs": [],
   "source": [
    "\"\"\" We need to add a date column for each DataFrame \"\"\"\n",
    "def add_month_column_to_dataframe (df: pd.DataFrame, year, month) -> pd.DataFrame:\n",
    "    df[\"date_added\"] = f\"01.{month:02}.{year}\"\n",
    "    df[\"date_added\"] = pd.to_datetime(df[\"date_added\"])\n",
    "    print(df.dtypes)\n",
    "    return df"
   ]
  },
  {
   "attachments": {},
   "cell_type": "markdown",
   "metadata": {},
   "source": [
    "## Save Data"
   ]
  },
  {
   "cell_type": "code",
   "execution_count": null,
   "metadata": {},
   "outputs": [],
   "source": [
    "def save_cleand_transformed_data(df: pd.DataFrame, file_name) -> None:\n",
    "    df.to_csv(f\"./data/{file_name}.csv\", index=False)"
   ]
  },
  {
   "cell_type": "code",
   "execution_count": null,
   "metadata": {},
   "outputs": [],
   "source": [
    "if __name__==\"__main__\":\n",
    "    years = [2022]\n",
    "    months = list(range(1,3))\n",
    "    for year in years:\n",
    "        for month in months:\n",
    "            file_name = f\"Number-and-types-of-applications-by-all-account-customers-{year}-{month:02}\"\n",
    "            download_csv_files(year, month, file_name)\n",
    "            df = load_csv_data(file_name)\n",
    "            df = drop_total_rows(df)\n",
    "            df = drop_total_column(df)\n",
    "            df = add_month_column_to_dataframe(df, year, month)\n",
    "            df = save_cleand_transformed_data(df, file_name)\n"
   ]
  }
 ],
 "metadata": {
  "kernelspec": {
   "display_name": "py_env",
   "language": "python",
   "name": "python3"
  },
  "language_info": {
   "codemirror_mode": {
    "name": "ipython",
    "version": 3
   },
   "file_extension": ".py",
   "mimetype": "text/x-python",
   "name": "python",
   "nbconvert_exporter": "python",
   "pygments_lexer": "ipython3",
   "version": "3.10.7"
  },
  "orig_nbformat": 4
 },
 "nbformat": 4,
 "nbformat_minor": 2
}
